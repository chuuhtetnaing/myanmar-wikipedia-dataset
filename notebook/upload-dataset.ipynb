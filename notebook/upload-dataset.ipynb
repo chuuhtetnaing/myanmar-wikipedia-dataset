{
 "cells": [
  {
   "cell_type": "code",
   "id": "initial_id",
   "metadata": {
    "collapsed": true,
    "ExecuteTime": {
     "end_time": "2025-03-25T14:19:24.980231Z",
     "start_time": "2025-03-25T14:19:24.249507Z"
    }
   },
   "source": [
    "import pandas as pd\n",
    "import ast\n",
    "from datasets import Dataset"
   ],
   "outputs": [],
   "execution_count": 1
  },
  {
   "metadata": {},
   "cell_type": "markdown",
   "source": "# Load the raw dataset",
   "id": "814ae67e2182c081"
  },
  {
   "metadata": {
    "ExecuteTime": {
     "end_time": "2025-03-25T14:19:34.946998Z",
     "start_time": "2025-03-25T14:19:24.982886Z"
    }
   },
   "cell_type": "code",
   "source": "df = pd.read_csv(\"../data/myanmar_wikipedia_dataset.csv\")",
   "id": "f97eab52d2276a27",
   "outputs": [],
   "execution_count": 2
  },
  {
   "metadata": {
    "ExecuteTime": {
     "end_time": "2025-03-25T14:19:35.037892Z",
     "start_time": "2025-03-25T14:19:35.014222Z"
    }
   },
   "cell_type": "code",
   "source": "df[df['title'] == \"ဒဿနိကဗေဒ\"]",
   "id": "bb4f7e9c86dc95ad",
   "outputs": [
    {
     "data": {
      "text/plain": [
       "           title                                            content  \\\n",
       "16      ဒဿနိကဗေဒ  ဒဿနိကဗေဒ(အင်္ဂလိပ်: Philosophy၊ ရှေးဟောင်းဂရိ:...   \n",
       "17      ဒဿနိကဗေဒ  ဒဿနိကဗေဒ(အင်္ဂလိပ်: Philosophy၊ ရှေးဟောင်းဂရိ:...   \n",
       "23184   ဒဿနိကဗေဒ  ဒဿနိကဗေဒ(အင်္ဂလိပ်: Philosophy၊ ရှေးဟောင်းဂရိ:...   \n",
       "23203   ဒဿနိကဗေဒ  ဒဿနိကဗေဒ(အင်္ဂလိပ်: Philosophy၊ ရှေးဟောင်းဂရိ:...   \n",
       "241408  ဒဿနိကဗေဒ  ဒဿနိကဗေဒ(အင်္ဂလိပ်: Philosophy၊ ရှေးဟောင်းဂရိ:...   \n",
       "266434  ဒဿနိကဗေဒ  ဒဿနိကဗေဒ(အင်္ဂလိပ်: Philosophy၊ ရှေးဟောင်းဂရိ:...   \n",
       "\n",
       "                                               categories  \\\n",
       "16      ['ကဏ္ဍ:ဒဿနိကဗေဒ', 'ကဏ္ဍ:ပင်မ အကြောင်းအရာ ဆောင်...   \n",
       "17      ['ကဏ္ဍ:ဒဿနိကဗေဒ', 'ကဏ္ဍ:ပင်မ အကြောင်းအရာ ဆောင်...   \n",
       "23184   ['ကဏ္ဍ:ဒဿနိကဗေဒ', 'ကဏ္ဍ:ပင်မ အကြောင်းအရာ ဆောင်...   \n",
       "23203   ['ကဏ္ဍ:ဒဿနိကဗေဒ', 'ကဏ္ဍ:ပင်မ အကြောင်းအရာ ဆောင်...   \n",
       "241408  ['ကဏ္ဍ:ဒဿနိကဗေဒ', 'ကဏ္ဍ:ပင်မ အကြောင်းအရာ ဆောင်...   \n",
       "266434  ['ကဏ္ဍ:ဒဿနိကဗေဒ', 'ကဏ္ဍ:ပင်မ အကြောင်းအရာ ဆောင်...   \n",
       "\n",
       "                                                      url  \\\n",
       "16      https://my.wikipedia.org/wiki/%E1%80%92%E1%80%...   \n",
       "17      https://my.wikipedia.org/wiki/%E1%80%92%E1%80%...   \n",
       "23184   https://my.wikipedia.org/wiki/%E1%80%92%E1%80%...   \n",
       "23203   https://my.wikipedia.org/wiki/%E1%80%92%E1%80%...   \n",
       "241408  https://my.wikipedia.org/wiki/%E1%80%92%E1%80%...   \n",
       "266434  https://my.wikipedia.org/wiki/%E1%80%92%E1%80%...   \n",
       "\n",
       "               last_modified  \\\n",
       "16      2025-03-15T06:59:34Z   \n",
       "17      2025-03-15T06:59:34Z   \n",
       "23184   2025-03-15T06:59:34Z   \n",
       "23203   2025-03-15T06:59:34Z   \n",
       "241408  2025-03-15T06:59:34Z   \n",
       "266434  2025-03-15T06:59:34Z   \n",
       "\n",
       "                                          source_category  \n",
       "16                                      ['လူ့အဖွဲ့အစည်း']  \n",
       "17                                      ['လူ့အဖွဲ့အစည်း']  \n",
       "23184   ['အင်ဂျင်နီယာ ပညာရပ်', 'ကဏ္ဍ:ပင်မ အကြောင်းအရာ ...  \n",
       "23203   ['အင်ဂျင်နီယာ ပညာရပ်', 'ကဏ္ဍ:ပင်မ အကြောင်းအရာ ...  \n",
       "241408  ['ပွဲတော်များ', 'ကဏ္ဍ:များပြားမလာစေရန် ရှင်းလင...  \n",
       "266434  ['ပွဲတော်များ', 'ကဏ္ဍ:များပြားမလာစေရန် ရှင်းလင...  "
      ],
      "text/html": [
       "<div>\n",
       "<style scoped>\n",
       "    .dataframe tbody tr th:only-of-type {\n",
       "        vertical-align: middle;\n",
       "    }\n",
       "\n",
       "    .dataframe tbody tr th {\n",
       "        vertical-align: top;\n",
       "    }\n",
       "\n",
       "    .dataframe thead th {\n",
       "        text-align: right;\n",
       "    }\n",
       "</style>\n",
       "<table border=\"1\" class=\"dataframe\">\n",
       "  <thead>\n",
       "    <tr style=\"text-align: right;\">\n",
       "      <th></th>\n",
       "      <th>title</th>\n",
       "      <th>content</th>\n",
       "      <th>categories</th>\n",
       "      <th>url</th>\n",
       "      <th>last_modified</th>\n",
       "      <th>source_category</th>\n",
       "    </tr>\n",
       "  </thead>\n",
       "  <tbody>\n",
       "    <tr>\n",
       "      <th>16</th>\n",
       "      <td>ဒဿနိကဗေဒ</td>\n",
       "      <td>ဒဿနိကဗေဒ(အင်္ဂလိပ်: Philosophy၊ ရှေးဟောင်းဂရိ:...</td>\n",
       "      <td>['ကဏ္ဍ:ဒဿနိကဗေဒ', 'ကဏ္ဍ:ပင်မ အကြောင်းအရာ ဆောင်...</td>\n",
       "      <td>https://my.wikipedia.org/wiki/%E1%80%92%E1%80%...</td>\n",
       "      <td>2025-03-15T06:59:34Z</td>\n",
       "      <td>['လူ့အဖွဲ့အစည်း']</td>\n",
       "    </tr>\n",
       "    <tr>\n",
       "      <th>17</th>\n",
       "      <td>ဒဿနိကဗေဒ</td>\n",
       "      <td>ဒဿနိကဗေဒ(အင်္ဂလိပ်: Philosophy၊ ရှေးဟောင်းဂရိ:...</td>\n",
       "      <td>['ကဏ္ဍ:ဒဿနိကဗေဒ', 'ကဏ္ဍ:ပင်မ အကြောင်းအရာ ဆောင်...</td>\n",
       "      <td>https://my.wikipedia.org/wiki/%E1%80%92%E1%80%...</td>\n",
       "      <td>2025-03-15T06:59:34Z</td>\n",
       "      <td>['လူ့အဖွဲ့အစည်း']</td>\n",
       "    </tr>\n",
       "    <tr>\n",
       "      <th>23184</th>\n",
       "      <td>ဒဿနိကဗေဒ</td>\n",
       "      <td>ဒဿနိကဗေဒ(အင်္ဂလိပ်: Philosophy၊ ရှေးဟောင်းဂရိ:...</td>\n",
       "      <td>['ကဏ္ဍ:ဒဿနိကဗေဒ', 'ကဏ္ဍ:ပင်မ အကြောင်းအရာ ဆောင်...</td>\n",
       "      <td>https://my.wikipedia.org/wiki/%E1%80%92%E1%80%...</td>\n",
       "      <td>2025-03-15T06:59:34Z</td>\n",
       "      <td>['အင်ဂျင်နီယာ ပညာရပ်', 'ကဏ္ဍ:ပင်မ အကြောင်းအရာ ...</td>\n",
       "    </tr>\n",
       "    <tr>\n",
       "      <th>23203</th>\n",
       "      <td>ဒဿနိကဗေဒ</td>\n",
       "      <td>ဒဿနိကဗေဒ(အင်္ဂလိပ်: Philosophy၊ ရှေးဟောင်းဂရိ:...</td>\n",
       "      <td>['ကဏ္ဍ:ဒဿနိကဗေဒ', 'ကဏ္ဍ:ပင်မ အကြောင်းအရာ ဆောင်...</td>\n",
       "      <td>https://my.wikipedia.org/wiki/%E1%80%92%E1%80%...</td>\n",
       "      <td>2025-03-15T06:59:34Z</td>\n",
       "      <td>['အင်ဂျင်နီယာ ပညာရပ်', 'ကဏ္ဍ:ပင်မ အကြောင်းအရာ ...</td>\n",
       "    </tr>\n",
       "    <tr>\n",
       "      <th>241408</th>\n",
       "      <td>ဒဿနိကဗေဒ</td>\n",
       "      <td>ဒဿနိကဗေဒ(အင်္ဂလိပ်: Philosophy၊ ရှေးဟောင်းဂရိ:...</td>\n",
       "      <td>['ကဏ္ဍ:ဒဿနိကဗေဒ', 'ကဏ္ဍ:ပင်မ အကြောင်းအရာ ဆောင်...</td>\n",
       "      <td>https://my.wikipedia.org/wiki/%E1%80%92%E1%80%...</td>\n",
       "      <td>2025-03-15T06:59:34Z</td>\n",
       "      <td>['ပွဲတော်များ', 'ကဏ္ဍ:များပြားမလာစေရန် ရှင်းလင...</td>\n",
       "    </tr>\n",
       "    <tr>\n",
       "      <th>266434</th>\n",
       "      <td>ဒဿနိကဗေဒ</td>\n",
       "      <td>ဒဿနိကဗေဒ(အင်္ဂလိပ်: Philosophy၊ ရှေးဟောင်းဂရိ:...</td>\n",
       "      <td>['ကဏ္ဍ:ဒဿနိကဗေဒ', 'ကဏ္ဍ:ပင်မ အကြောင်းအရာ ဆောင်...</td>\n",
       "      <td>https://my.wikipedia.org/wiki/%E1%80%92%E1%80%...</td>\n",
       "      <td>2025-03-15T06:59:34Z</td>\n",
       "      <td>['ပွဲတော်များ', 'ကဏ္ဍ:များပြားမလာစေရန် ရှင်းလင...</td>\n",
       "    </tr>\n",
       "  </tbody>\n",
       "</table>\n",
       "</div>"
      ]
     },
     "execution_count": 3,
     "metadata": {},
     "output_type": "execute_result"
    }
   ],
   "execution_count": 3
  },
  {
   "metadata": {},
   "cell_type": "markdown",
   "source": "# Drop duplicate rows (in case it was modified during downloading data)",
   "id": "f6d5f387ec421a6c"
  },
  {
   "metadata": {
    "ExecuteTime": {
     "end_time": "2025-03-25T14:19:37.460418Z",
     "start_time": "2025-03-25T14:19:35.119132Z"
    }
   },
   "cell_type": "code",
   "source": [
    "# Ensure last_modified is in datetime format\n",
    "df['last_modified'] = pd.to_datetime(df['last_modified'])\n",
    "\n",
    "# Sort by last_modified in descending order (latest first)\n",
    "df = df.sort_values('last_modified', ascending=False)\n",
    "\n",
    "# Get the latest version of each URL\n",
    "df = df.drop_duplicates(subset=['title', 'content', 'categories', 'url', 'source_category'], keep='first')"
   ],
   "id": "6a1c7544c27d1555",
   "outputs": [],
   "execution_count": 4
  },
  {
   "metadata": {
    "ExecuteTime": {
     "end_time": "2025-03-25T14:19:37.518238Z",
     "start_time": "2025-03-25T14:19:37.478181Z"
    }
   },
   "cell_type": "code",
   "source": "df[df['title'] == \"ဒဿနိကဗေဒ\"]",
   "id": "687598c6441bdbf6",
   "outputs": [
    {
     "data": {
      "text/plain": [
       "           title                                            content  \\\n",
       "16      ဒဿနိကဗေဒ  ဒဿနိကဗေဒ(အင်္ဂလိပ်: Philosophy၊ ရှေးဟောင်းဂရိ:...   \n",
       "266434  ဒဿနိကဗေဒ  ဒဿနိကဗေဒ(အင်္ဂလိပ်: Philosophy၊ ရှေးဟောင်းဂရိ:...   \n",
       "23203   ဒဿနိကဗေဒ  ဒဿနိကဗေဒ(အင်္ဂလိပ်: Philosophy၊ ရှေးဟောင်းဂရိ:...   \n",
       "241408  ဒဿနိကဗေဒ  ဒဿနိကဗေဒ(အင်္ဂလိပ်: Philosophy၊ ရှေးဟောင်းဂရိ:...   \n",
       "23184   ဒဿနိကဗေဒ  ဒဿနိကဗေဒ(အင်္ဂလိပ်: Philosophy၊ ရှေးဟောင်းဂရိ:...   \n",
       "\n",
       "                                               categories  \\\n",
       "16      ['ကဏ္ဍ:ဒဿနိကဗေဒ', 'ကဏ္ဍ:ပင်မ အကြောင်းအရာ ဆောင်...   \n",
       "266434  ['ကဏ္ဍ:ဒဿနိကဗေဒ', 'ကဏ္ဍ:ပင်မ အကြောင်းအရာ ဆောင်...   \n",
       "23203   ['ကဏ္ဍ:ဒဿနိကဗေဒ', 'ကဏ္ဍ:ပင်မ အကြောင်းအရာ ဆောင်...   \n",
       "241408  ['ကဏ္ဍ:ဒဿနိကဗေဒ', 'ကဏ္ဍ:ပင်မ အကြောင်းအရာ ဆောင်...   \n",
       "23184   ['ကဏ္ဍ:ဒဿနိကဗေဒ', 'ကဏ္ဍ:ပင်မ အကြောင်းအရာ ဆောင်...   \n",
       "\n",
       "                                                      url  \\\n",
       "16      https://my.wikipedia.org/wiki/%E1%80%92%E1%80%...   \n",
       "266434  https://my.wikipedia.org/wiki/%E1%80%92%E1%80%...   \n",
       "23203   https://my.wikipedia.org/wiki/%E1%80%92%E1%80%...   \n",
       "241408  https://my.wikipedia.org/wiki/%E1%80%92%E1%80%...   \n",
       "23184   https://my.wikipedia.org/wiki/%E1%80%92%E1%80%...   \n",
       "\n",
       "                   last_modified  \\\n",
       "16     2025-03-15 06:59:34+00:00   \n",
       "266434 2025-03-15 06:59:34+00:00   \n",
       "23203  2025-03-15 06:59:34+00:00   \n",
       "241408 2025-03-15 06:59:34+00:00   \n",
       "23184  2025-03-15 06:59:34+00:00   \n",
       "\n",
       "                                          source_category  \n",
       "16                                      ['လူ့အဖွဲ့အစည်း']  \n",
       "266434  ['ပွဲတော်များ', 'ကဏ္ဍ:များပြားမလာစေရန် ရှင်းလင...  \n",
       "23203   ['အင်ဂျင်နီယာ ပညာရပ်', 'ကဏ္ဍ:ပင်မ အကြောင်းအရာ ...  \n",
       "241408  ['ပွဲတော်များ', 'ကဏ္ဍ:များပြားမလာစေရန် ရှင်းလင...  \n",
       "23184   ['အင်ဂျင်နီယာ ပညာရပ်', 'ကဏ္ဍ:ပင်မ အကြောင်းအရာ ...  "
      ],
      "text/html": [
       "<div>\n",
       "<style scoped>\n",
       "    .dataframe tbody tr th:only-of-type {\n",
       "        vertical-align: middle;\n",
       "    }\n",
       "\n",
       "    .dataframe tbody tr th {\n",
       "        vertical-align: top;\n",
       "    }\n",
       "\n",
       "    .dataframe thead th {\n",
       "        text-align: right;\n",
       "    }\n",
       "</style>\n",
       "<table border=\"1\" class=\"dataframe\">\n",
       "  <thead>\n",
       "    <tr style=\"text-align: right;\">\n",
       "      <th></th>\n",
       "      <th>title</th>\n",
       "      <th>content</th>\n",
       "      <th>categories</th>\n",
       "      <th>url</th>\n",
       "      <th>last_modified</th>\n",
       "      <th>source_category</th>\n",
       "    </tr>\n",
       "  </thead>\n",
       "  <tbody>\n",
       "    <tr>\n",
       "      <th>16</th>\n",
       "      <td>ဒဿနိကဗေဒ</td>\n",
       "      <td>ဒဿနိကဗေဒ(အင်္ဂလိပ်: Philosophy၊ ရှေးဟောင်းဂရိ:...</td>\n",
       "      <td>['ကဏ္ဍ:ဒဿနိကဗေဒ', 'ကဏ္ဍ:ပင်မ အကြောင်းအရာ ဆောင်...</td>\n",
       "      <td>https://my.wikipedia.org/wiki/%E1%80%92%E1%80%...</td>\n",
       "      <td>2025-03-15 06:59:34+00:00</td>\n",
       "      <td>['လူ့အဖွဲ့အစည်း']</td>\n",
       "    </tr>\n",
       "    <tr>\n",
       "      <th>266434</th>\n",
       "      <td>ဒဿနိကဗေဒ</td>\n",
       "      <td>ဒဿနိကဗေဒ(အင်္ဂလိပ်: Philosophy၊ ရှေးဟောင်းဂရိ:...</td>\n",
       "      <td>['ကဏ္ဍ:ဒဿနိကဗေဒ', 'ကဏ္ဍ:ပင်မ အကြောင်းအရာ ဆောင်...</td>\n",
       "      <td>https://my.wikipedia.org/wiki/%E1%80%92%E1%80%...</td>\n",
       "      <td>2025-03-15 06:59:34+00:00</td>\n",
       "      <td>['ပွဲတော်များ', 'ကဏ္ဍ:များပြားမလာစေရန် ရှင်းလင...</td>\n",
       "    </tr>\n",
       "    <tr>\n",
       "      <th>23203</th>\n",
       "      <td>ဒဿနိကဗေဒ</td>\n",
       "      <td>ဒဿနိကဗေဒ(အင်္ဂလိပ်: Philosophy၊ ရှေးဟောင်းဂရိ:...</td>\n",
       "      <td>['ကဏ္ဍ:ဒဿနိကဗေဒ', 'ကဏ္ဍ:ပင်မ အကြောင်းအရာ ဆောင်...</td>\n",
       "      <td>https://my.wikipedia.org/wiki/%E1%80%92%E1%80%...</td>\n",
       "      <td>2025-03-15 06:59:34+00:00</td>\n",
       "      <td>['အင်ဂျင်နီယာ ပညာရပ်', 'ကဏ္ဍ:ပင်မ အကြောင်းအရာ ...</td>\n",
       "    </tr>\n",
       "    <tr>\n",
       "      <th>241408</th>\n",
       "      <td>ဒဿနိကဗေဒ</td>\n",
       "      <td>ဒဿနိကဗေဒ(အင်္ဂလိပ်: Philosophy၊ ရှေးဟောင်းဂရိ:...</td>\n",
       "      <td>['ကဏ္ဍ:ဒဿနိကဗေဒ', 'ကဏ္ဍ:ပင်မ အကြောင်းအရာ ဆောင်...</td>\n",
       "      <td>https://my.wikipedia.org/wiki/%E1%80%92%E1%80%...</td>\n",
       "      <td>2025-03-15 06:59:34+00:00</td>\n",
       "      <td>['ပွဲတော်များ', 'ကဏ္ဍ:များပြားမလာစေရန် ရှင်းလင...</td>\n",
       "    </tr>\n",
       "    <tr>\n",
       "      <th>23184</th>\n",
       "      <td>ဒဿနိကဗေဒ</td>\n",
       "      <td>ဒဿနိကဗေဒ(အင်္ဂလိပ်: Philosophy၊ ရှေးဟောင်းဂရိ:...</td>\n",
       "      <td>['ကဏ္ဍ:ဒဿနိကဗေဒ', 'ကဏ္ဍ:ပင်မ အကြောင်းအရာ ဆောင်...</td>\n",
       "      <td>https://my.wikipedia.org/wiki/%E1%80%92%E1%80%...</td>\n",
       "      <td>2025-03-15 06:59:34+00:00</td>\n",
       "      <td>['အင်ဂျင်နီယာ ပညာရပ်', 'ကဏ္ဍ:ပင်မ အကြောင်းအရာ ...</td>\n",
       "    </tr>\n",
       "  </tbody>\n",
       "</table>\n",
       "</div>"
      ]
     },
     "execution_count": 5,
     "metadata": {},
     "output_type": "execute_result"
    }
   ],
   "execution_count": 5
  },
  {
   "metadata": {},
   "cell_type": "markdown",
   "source": "# Combine pages of different category paths",
   "id": "49248f6b4966e157"
  },
  {
   "metadata": {
    "ExecuteTime": {
     "end_time": "2025-03-25T14:19:43.902128Z",
     "start_time": "2025-03-25T14:19:37.528384Z"
    }
   },
   "cell_type": "code",
   "source": [
    "df['source_category'] = df['source_category'].apply(lambda x: ast.literal_eval(x))\n",
    "\n",
    "# Assuming your dataframe is called 'df'\n",
    "def combine_lists(series):\n",
    "    combined = []\n",
    "    for item in series:\n",
    "        item[0] = \"ကဏ္ဍ:\" + item[0]\n",
    "        combined.append(item)\n",
    "    return combined\n",
    "\n",
    "# Count total number of category paths\n",
    "def count_category_paths(series):\n",
    "    total_paths = 0\n",
    "    for item in series:\n",
    "        if isinstance(item, list):\n",
    "            total_paths += len(item)\n",
    "        else:\n",
    "            total_paths += 1\n",
    "    return total_paths\n",
    "\n",
    "df['source_category'] = df['source_category'].apply(\n",
    "    lambda x: ast.literal_eval(x) if isinstance(x, str) and x.startswith('[') and x.endswith(']') else x\n",
    ")\n",
    "\n",
    "df = df.rename(columns={\"source_category\": \"category_path\"})\n",
    "\n",
    "# Group by the columns and aggregate\n",
    "result = df.groupby(['title', 'content', 'categories', 'url', 'last_modified']).agg({\n",
    "    'category_path': combine_lists,\n",
    "    'title': 'count'  # Use any column to count rows\n",
    "}).rename(columns={'title': 'category_path_count'}).reset_index()\n"
   ],
   "id": "83755ba01d479f4f",
   "outputs": [],
   "execution_count": 6
  },
  {
   "metadata": {
    "ExecuteTime": {
     "end_time": "2025-03-25T14:19:43.961808Z",
     "start_time": "2025-03-25T14:19:43.947342Z"
    }
   },
   "cell_type": "code",
   "source": "result[result['title'] == \"ဒဿနိကဗေဒ\"]",
   "id": "87f20df9bf1a86ce",
   "outputs": [
    {
     "data": {
      "text/plain": [
       "          title                                            content  \\\n",
       "47292  ဒဿနိကဗေဒ  ဒဿနိကဗေဒ(အင်္ဂလိပ်: Philosophy၊ ရှေးဟောင်းဂရိ:...   \n",
       "\n",
       "                                              categories  \\\n",
       "47292  ['ကဏ္ဍ:ဒဿနိကဗေဒ', 'ကဏ္ဍ:ပင်မ အကြောင်းအရာ ဆောင်...   \n",
       "\n",
       "                                                     url  \\\n",
       "47292  https://my.wikipedia.org/wiki/%E1%80%92%E1%80%...   \n",
       "\n",
       "                  last_modified  \\\n",
       "47292 2025-03-15 06:59:34+00:00   \n",
       "\n",
       "                                           category_path  category_path_count  \n",
       "47292  [[ကဏ္ဍ:လူ့အဖွဲ့အစည်း], [ကဏ္ဍ:ပွဲတော်များ, ကဏ္ဍ...                    5  "
      ],
      "text/html": [
       "<div>\n",
       "<style scoped>\n",
       "    .dataframe tbody tr th:only-of-type {\n",
       "        vertical-align: middle;\n",
       "    }\n",
       "\n",
       "    .dataframe tbody tr th {\n",
       "        vertical-align: top;\n",
       "    }\n",
       "\n",
       "    .dataframe thead th {\n",
       "        text-align: right;\n",
       "    }\n",
       "</style>\n",
       "<table border=\"1\" class=\"dataframe\">\n",
       "  <thead>\n",
       "    <tr style=\"text-align: right;\">\n",
       "      <th></th>\n",
       "      <th>title</th>\n",
       "      <th>content</th>\n",
       "      <th>categories</th>\n",
       "      <th>url</th>\n",
       "      <th>last_modified</th>\n",
       "      <th>category_path</th>\n",
       "      <th>category_path_count</th>\n",
       "    </tr>\n",
       "  </thead>\n",
       "  <tbody>\n",
       "    <tr>\n",
       "      <th>47292</th>\n",
       "      <td>ဒဿနိကဗေဒ</td>\n",
       "      <td>ဒဿနိကဗေဒ(အင်္ဂလိပ်: Philosophy၊ ရှေးဟောင်းဂရိ:...</td>\n",
       "      <td>['ကဏ္ဍ:ဒဿနိကဗေဒ', 'ကဏ္ဍ:ပင်မ အကြောင်းအရာ ဆောင်...</td>\n",
       "      <td>https://my.wikipedia.org/wiki/%E1%80%92%E1%80%...</td>\n",
       "      <td>2025-03-15 06:59:34+00:00</td>\n",
       "      <td>[[ကဏ္ဍ:လူ့အဖွဲ့အစည်း], [ကဏ္ဍ:ပွဲတော်များ, ကဏ္ဍ...</td>\n",
       "      <td>5</td>\n",
       "    </tr>\n",
       "  </tbody>\n",
       "</table>\n",
       "</div>"
      ]
     },
     "execution_count": 7,
     "metadata": {},
     "output_type": "execute_result"
    }
   ],
   "execution_count": 7
  },
  {
   "metadata": {
    "ExecuteTime": {
     "end_time": "2025-03-25T14:19:44.011237Z",
     "start_time": "2025-03-25T14:19:44.006060Z"
    }
   },
   "cell_type": "code",
   "source": "result.head()",
   "id": "1982cfb85313e19e",
   "outputs": [
    {
     "data": {
      "text/plain": [
       "                                           title  \\\n",
       "0                    (ဒု) ချီးယားတန်း (တောင်)ရွာ   \n",
       "1                   (ဒု) ချီးယားတန်း (အနောက်)ရွာ   \n",
       "2  (ဒု) ချီးယားတန်း (အနောက်)ရွာ၊ (ဒု)ချီးရားတန်း   \n",
       "3                    (ဒု) ချီးယားတန်း (အရှေ့)ရွာ   \n",
       "4   (ဒု) ချီးယားတန်း (အရှေ့)ရွာ၊ (ဒု)ချီးရားတန်း   \n",
       "\n",
       "                                             content  \\\n",
       "0           (ဒု) ချီးယားတန်း (တောင်)ရွာ\\n\\n\\nကိုးကား   \n",
       "1          (ဒု) ချီးယားတန်း (အနောက်)ရွာ\\n\\n\\nကိုးကား   \n",
       "2  (ဒု) ချီးယားတန်း (အနောက်)ရွာ၊ (ဒု)ချီးရားတန်း\\...   \n",
       "3           (ဒု) ချီးယားတန်း (အရှေ့)ရွာ\\n\\n\\nကိုးကား   \n",
       "4  (ဒု) ချီးယားတန်း (အရှေ့)ရွာ၊ (ဒု)ချီးရားတန်း\\n...   \n",
       "\n",
       "                          categories  \\\n",
       "0  ['ကဏ္ဍ:ရခိုင်ပြည်နယ်ရှိ ရွာများ']   \n",
       "1  ['ကဏ္ဍ:ရခိုင်ပြည်နယ်ရှိ ရွာများ']   \n",
       "2  ['ကဏ္ဍ:ရခိုင်ပြည်နယ်ရှိ ရွာများ']   \n",
       "3  ['ကဏ္ဍ:ရခိုင်ပြည်နယ်ရှိ ရွာများ']   \n",
       "4  ['ကဏ္ဍ:ရခိုင်ပြည်နယ်ရှိ ရွာများ']   \n",
       "\n",
       "                                                 url  \\\n",
       "0  https://my.wikipedia.org/wiki/(%E1%80%92%E1%80...   \n",
       "1  https://my.wikipedia.org/wiki/(%E1%80%92%E1%80...   \n",
       "2  https://my.wikipedia.org/wiki/(%E1%80%92%E1%80...   \n",
       "3  https://my.wikipedia.org/wiki/(%E1%80%92%E1%80...   \n",
       "4  https://my.wikipedia.org/wiki/(%E1%80%92%E1%80...   \n",
       "\n",
       "              last_modified  \\\n",
       "0 2024-12-01 00:44:13+00:00   \n",
       "1 2024-12-01 00:44:13+00:00   \n",
       "2 2024-12-01 01:15:55+00:00   \n",
       "3 2024-12-01 00:44:13+00:00   \n",
       "4 2024-12-01 01:15:55+00:00   \n",
       "\n",
       "                                       category_path  category_path_count  \n",
       "0  [[ကဏ္ဍ:မြန်မာနိုင်ငံ၏ ပညာရေး, ကဏ္ဍ:မြန်မာနိုင်...                    1  \n",
       "1  [[ကဏ္ဍ:မြန်မာနိုင်ငံ၏ ပညာရေး, ကဏ္ဍ:မြန်မာနိုင်...                    1  \n",
       "2  [[ကဏ္ဍ:မြန်မာနိုင်ငံ၏ ပညာရေး, ကဏ္ဍ:မြန်မာနိုင်...                    1  \n",
       "3  [[ကဏ္ဍ:မြန်မာနိုင်ငံ၏ ပညာရေး, ကဏ္ဍ:မြန်မာနိုင်...                    1  \n",
       "4  [[ကဏ္ဍ:မြန်မာနိုင်ငံ၏ ပညာရေး, ကဏ္ဍ:မြန်မာနိုင်...                    1  "
      ],
      "text/html": [
       "<div>\n",
       "<style scoped>\n",
       "    .dataframe tbody tr th:only-of-type {\n",
       "        vertical-align: middle;\n",
       "    }\n",
       "\n",
       "    .dataframe tbody tr th {\n",
       "        vertical-align: top;\n",
       "    }\n",
       "\n",
       "    .dataframe thead th {\n",
       "        text-align: right;\n",
       "    }\n",
       "</style>\n",
       "<table border=\"1\" class=\"dataframe\">\n",
       "  <thead>\n",
       "    <tr style=\"text-align: right;\">\n",
       "      <th></th>\n",
       "      <th>title</th>\n",
       "      <th>content</th>\n",
       "      <th>categories</th>\n",
       "      <th>url</th>\n",
       "      <th>last_modified</th>\n",
       "      <th>category_path</th>\n",
       "      <th>category_path_count</th>\n",
       "    </tr>\n",
       "  </thead>\n",
       "  <tbody>\n",
       "    <tr>\n",
       "      <th>0</th>\n",
       "      <td>(ဒု) ချီးယားတန်း (တောင်)ရွာ</td>\n",
       "      <td>(ဒု) ချီးယားတန်း (တောင်)ရွာ\\n\\n\\nကိုးကား</td>\n",
       "      <td>['ကဏ္ဍ:ရခိုင်ပြည်နယ်ရှိ ရွာများ']</td>\n",
       "      <td>https://my.wikipedia.org/wiki/(%E1%80%92%E1%80...</td>\n",
       "      <td>2024-12-01 00:44:13+00:00</td>\n",
       "      <td>[[ကဏ္ဍ:မြန်မာနိုင်ငံ၏ ပညာရေး, ကဏ္ဍ:မြန်မာနိုင်...</td>\n",
       "      <td>1</td>\n",
       "    </tr>\n",
       "    <tr>\n",
       "      <th>1</th>\n",
       "      <td>(ဒု) ချီးယားတန်း (အနောက်)ရွာ</td>\n",
       "      <td>(ဒု) ချီးယားတန်း (အနောက်)ရွာ\\n\\n\\nကိုးကား</td>\n",
       "      <td>['ကဏ္ဍ:ရခိုင်ပြည်နယ်ရှိ ရွာများ']</td>\n",
       "      <td>https://my.wikipedia.org/wiki/(%E1%80%92%E1%80...</td>\n",
       "      <td>2024-12-01 00:44:13+00:00</td>\n",
       "      <td>[[ကဏ္ဍ:မြန်မာနိုင်ငံ၏ ပညာရေး, ကဏ္ဍ:မြန်မာနိုင်...</td>\n",
       "      <td>1</td>\n",
       "    </tr>\n",
       "    <tr>\n",
       "      <th>2</th>\n",
       "      <td>(ဒု) ချီးယားတန်း (အနောက်)ရွာ၊ (ဒု)ချီးရားတန်း</td>\n",
       "      <td>(ဒု) ချီးယားတန်း (အနောက်)ရွာ၊ (ဒု)ချီးရားတန်း\\...</td>\n",
       "      <td>['ကဏ္ဍ:ရခိုင်ပြည်နယ်ရှိ ရွာများ']</td>\n",
       "      <td>https://my.wikipedia.org/wiki/(%E1%80%92%E1%80...</td>\n",
       "      <td>2024-12-01 01:15:55+00:00</td>\n",
       "      <td>[[ကဏ္ဍ:မြန်မာနိုင်ငံ၏ ပညာရေး, ကဏ္ဍ:မြန်မာနိုင်...</td>\n",
       "      <td>1</td>\n",
       "    </tr>\n",
       "    <tr>\n",
       "      <th>3</th>\n",
       "      <td>(ဒု) ချီးယားတန်း (အရှေ့)ရွာ</td>\n",
       "      <td>(ဒု) ချီးယားတန်း (အရှေ့)ရွာ\\n\\n\\nကိုးကား</td>\n",
       "      <td>['ကဏ္ဍ:ရခိုင်ပြည်နယ်ရှိ ရွာများ']</td>\n",
       "      <td>https://my.wikipedia.org/wiki/(%E1%80%92%E1%80...</td>\n",
       "      <td>2024-12-01 00:44:13+00:00</td>\n",
       "      <td>[[ကဏ္ဍ:မြန်မာနိုင်ငံ၏ ပညာရေး, ကဏ္ဍ:မြန်မာနိုင်...</td>\n",
       "      <td>1</td>\n",
       "    </tr>\n",
       "    <tr>\n",
       "      <th>4</th>\n",
       "      <td>(ဒု) ချီးယားတန်း (အရှေ့)ရွာ၊ (ဒု)ချီးရားတန်း</td>\n",
       "      <td>(ဒု) ချီးယားတန်း (အရှေ့)ရွာ၊ (ဒု)ချီးရားတန်း\\n...</td>\n",
       "      <td>['ကဏ္ဍ:ရခိုင်ပြည်နယ်ရှိ ရွာများ']</td>\n",
       "      <td>https://my.wikipedia.org/wiki/(%E1%80%92%E1%80...</td>\n",
       "      <td>2024-12-01 01:15:55+00:00</td>\n",
       "      <td>[[ကဏ္ဍ:မြန်မာနိုင်ငံ၏ ပညာရေး, ကဏ္ဍ:မြန်မာနိုင်...</td>\n",
       "      <td>1</td>\n",
       "    </tr>\n",
       "  </tbody>\n",
       "</table>\n",
       "</div>"
      ]
     },
     "execution_count": 8,
     "metadata": {},
     "output_type": "execute_result"
    }
   ],
   "execution_count": 8
  },
  {
   "metadata": {
    "ExecuteTime": {
     "end_time": "2025-03-25T14:19:44.051217Z",
     "start_time": "2025-03-25T14:19:44.049716Z"
    }
   },
   "cell_type": "code",
   "source": "",
   "id": "33441bb784f6d11d",
   "outputs": [],
   "execution_count": null
  },
  {
   "metadata": {},
   "cell_type": "markdown",
   "source": "# Add the Unique Words and Unique Phrases Columns",
   "id": "1b4400d37053b870"
  },
  {
   "metadata": {
    "ExecuteTime": {
     "end_time": "2025-03-25T14:19:44.143157Z",
     "start_time": "2025-03-25T14:19:44.141697Z"
    }
   },
   "cell_type": "code",
   "source": "import re",
   "id": "ff849ff6d55f195",
   "outputs": [],
   "execution_count": 9
  },
  {
   "metadata": {
    "ExecuteTime": {
     "end_time": "2025-03-25T14:19:44.172060Z",
     "start_time": "2025-03-25T14:19:44.169538Z"
    }
   },
   "cell_type": "code",
   "source": [
    "# Reference: https://github.com/ye-kyaw-thu/sylbreak/blob/master/python/sylbreak.py\n",
    "\n",
    "def create_break_pattern():\n",
    "    \"\"\"Creates and returns the regular expression pattern for Myanmar syllable breaking.\"\"\"\n",
    "    my_consonant = r\"က-အ\"\n",
    "    # en_char = r\"a-zA-Z0-9\"\n",
    "\n",
    "    other_char = r\"ဣဤဥဦဧဩဪဿ၌၍၏၀-၉၊။(){}\"\n",
    "    subscript_symbol = r'္'\n",
    "    a_that = r'်'\n",
    "\n",
    "    # Regular expression pattern for Myanmar syllable breaking\n",
    "    return re.compile(\n",
    "        r\"((?<!\" + subscript_symbol + r\")[\" + my_consonant + r\"]\"\n",
    "                                                             r\"(?![\"\n",
    "        + a_that + subscript_symbol + r\"])\"\n",
    "        + r\"|[\" + other_char + r\"])\"\n",
    "    )\n",
    "\n",
    "def break_syllables(line, break_pattern, separator):\n",
    "    \"\"\"Applie\n",
    "    s syllable breaking rules to a line.\"\"\"\n",
    "    line = re.sub(r'\\s+', ' ', line.strip()) # Normalize space\n",
    "    segmented_line = break_pattern.sub(separator + r\"\\1\", line)\n",
    "\n",
    "    # Remove the leading delimiter if it exists\n",
    "    if segmented_line.startswith(separator):\n",
    "        segmented_line = segmented_line[len(separator):]\n",
    "\n",
    "    # Replace delimiter+space+delimiter with a single space\n",
    "    double_delimiter = separator + \" \" + separator\n",
    "    segmented_line = segmented_line.replace(double_delimiter, \" \")\n",
    "\n",
    "    return segmented_line\n",
    "\n",
    "break_pattern = create_break_pattern()\n"
   ],
   "id": "b979f1b2632f70fa",
   "outputs": [],
   "execution_count": 10
  },
  {
   "metadata": {
    "ExecuteTime": {
     "end_time": "2025-03-25T14:19:44.215414Z",
     "start_time": "2025-03-25T14:19:44.212797Z"
    }
   },
   "cell_type": "code",
   "source": [
    "def split_words(text):\n",
    "    seperator = \"|X|\"\n",
    "\n",
    "    words = break_syllables(text, break_pattern, seperator)\n",
    "    words = words.split(seperator)\n",
    "\n",
    "    return words\n",
    "\n",
    "split_words(\"(ဒု) ချီးယားတန်း (တောင်)ရွာ\")"
   ],
   "id": "e13c0e0bd3ff8723",
   "outputs": [
    {
     "data": {
      "text/plain": [
       "['(', 'ဒု', ') ', 'ချီး', 'ယား', 'တန်း ', '(', 'တောင်', ')', 'ရွာ']"
      ]
     },
     "execution_count": 11,
     "metadata": {},
     "output_type": "execute_result"
    }
   ],
   "execution_count": 11
  },
  {
   "metadata": {
    "ExecuteTime": {
     "end_time": "2025-03-25T14:19:44.248278Z",
     "start_time": "2025-03-25T14:19:44.246160Z"
    }
   },
   "cell_type": "code",
   "source": [
    "text = \"(ဒု) ချီးယားတန်း (တောင်)ရွာ\"\n",
    "\n",
    "phrases = text.split()\n",
    "\n",
    "phrases"
   ],
   "id": "6b02b97c4fd3ab83",
   "outputs": [
    {
     "data": {
      "text/plain": [
       "['(ဒု)', 'ချီးယားတန်း', '(တောင်)ရွာ']"
      ]
     },
     "execution_count": 12,
     "metadata": {},
     "output_type": "execute_result"
    }
   ],
   "execution_count": 12
  },
  {
   "metadata": {
    "ExecuteTime": {
     "end_time": "2025-03-25T14:20:02.566161Z",
     "start_time": "2025-03-25T14:19:44.314688Z"
    }
   },
   "cell_type": "code",
   "source": [
    "import re\n",
    "\n",
    "def split_words_on_columns(x):\n",
    "    text = x['title'] + \" \" + x['content']\n",
    "    text = re.sub(r\"\\s+\", \"\", text)\n",
    "    text = list(set(split_words(text)))\n",
    "    return text\n",
    "\n",
    "def split_phrases_on_columns(x):\n",
    "    text = x['title'] + \" \" + x['content']\n",
    "    text = re.sub(r\"\\s+\", \" \", text)\n",
    "    text = re.sub(r\"\\n+\", \" \", text)\n",
    "    text = list(set(text.split()))\n",
    "    return text\n",
    "\n",
    "\n",
    "result[\"unique_words\"] = result.apply(split_words_on_columns, axis=1)\n",
    "result[\"unique_phrases\"] = result.apply(split_phrases_on_columns, axis=1)"
   ],
   "id": "b990d136f5203cc1",
   "outputs": [],
   "execution_count": 13
  },
  {
   "metadata": {
    "ExecuteTime": {
     "end_time": "2025-03-25T14:20:02.579799Z",
     "start_time": "2025-03-25T14:20:02.573860Z"
    }
   },
   "cell_type": "code",
   "source": "result.head()",
   "id": "6255115010ff652f",
   "outputs": [
    {
     "data": {
      "text/plain": [
       "                                           title  \\\n",
       "0                    (ဒု) ချီးယားတန်း (တောင်)ရွာ   \n",
       "1                   (ဒု) ချီးယားတန်း (အနောက်)ရွာ   \n",
       "2  (ဒု) ချီးယားတန်း (အနောက်)ရွာ၊ (ဒု)ချီးရားတန်း   \n",
       "3                    (ဒု) ချီးယားတန်း (အရှေ့)ရွာ   \n",
       "4   (ဒု) ချီးယားတန်း (အရှေ့)ရွာ၊ (ဒု)ချီးရားတန်း   \n",
       "\n",
       "                                             content  \\\n",
       "0           (ဒု) ချီးယားတန်း (တောင်)ရွာ\\n\\n\\nကိုးကား   \n",
       "1          (ဒု) ချီးယားတန်း (အနောက်)ရွာ\\n\\n\\nကိုးကား   \n",
       "2  (ဒု) ချီးယားတန်း (အနောက်)ရွာ၊ (ဒု)ချီးရားတန်း\\...   \n",
       "3           (ဒု) ချီးယားတန်း (အရှေ့)ရွာ\\n\\n\\nကိုးကား   \n",
       "4  (ဒု) ချီးယားတန်း (အရှေ့)ရွာ၊ (ဒု)ချီးရားတန်း\\n...   \n",
       "\n",
       "                          categories  \\\n",
       "0  ['ကဏ္ဍ:ရခိုင်ပြည်နယ်ရှိ ရွာများ']   \n",
       "1  ['ကဏ္ဍ:ရခိုင်ပြည်နယ်ရှိ ရွာများ']   \n",
       "2  ['ကဏ္ဍ:ရခိုင်ပြည်နယ်ရှိ ရွာများ']   \n",
       "3  ['ကဏ္ဍ:ရခိုင်ပြည်နယ်ရှိ ရွာများ']   \n",
       "4  ['ကဏ္ဍ:ရခိုင်ပြည်နယ်ရှိ ရွာများ']   \n",
       "\n",
       "                                                 url  \\\n",
       "0  https://my.wikipedia.org/wiki/(%E1%80%92%E1%80...   \n",
       "1  https://my.wikipedia.org/wiki/(%E1%80%92%E1%80...   \n",
       "2  https://my.wikipedia.org/wiki/(%E1%80%92%E1%80...   \n",
       "3  https://my.wikipedia.org/wiki/(%E1%80%92%E1%80...   \n",
       "4  https://my.wikipedia.org/wiki/(%E1%80%92%E1%80...   \n",
       "\n",
       "              last_modified  \\\n",
       "0 2024-12-01 00:44:13+00:00   \n",
       "1 2024-12-01 00:44:13+00:00   \n",
       "2 2024-12-01 01:15:55+00:00   \n",
       "3 2024-12-01 00:44:13+00:00   \n",
       "4 2024-12-01 01:15:55+00:00   \n",
       "\n",
       "                                       category_path  category_path_count  \\\n",
       "0  [[ကဏ္ဍ:မြန်မာနိုင်ငံ၏ ပညာရေး, ကဏ္ဍ:မြန်မာနိုင်...                    1   \n",
       "1  [[ကဏ္ဍ:မြန်မာနိုင်ငံ၏ ပညာရေး, ကဏ္ဍ:မြန်မာနိုင်...                    1   \n",
       "2  [[ကဏ္ဍ:မြန်မာနိုင်ငံ၏ ပညာရေး, ကဏ္ဍ:မြန်မာနိုင်...                    1   \n",
       "3  [[ကဏ္ဍ:မြန်မာနိုင်ငံ၏ ပညာရေး, ကဏ္ဍ:မြန်မာနိုင်...                    1   \n",
       "4  [[ကဏ္ဍ:မြန်မာနိုင်ငံ၏ ပညာရေး, ကဏ္ဍ:မြန်မာနိုင်...                    1   \n",
       "\n",
       "                                        unique_words  \\\n",
       "0  [ဒု, တန်း, ကား, ), တောင်, (, ကိုး, ရွာ, ချီး, ...   \n",
       "1  [ဒု, တန်း, ကား, ), နောက်, (, ကိုး, အ, ရွာ, ချီ...   \n",
       "2  [ဒု, တန်း, ကား, ), နောက်, (, ၊, အ, ရား, ရွာ, ခ...   \n",
       "3  [ရှေ့, ဒု, တန်း, ကား, ), (, ကိုး, အ, ရွာ, ချီး...   \n",
       "4  [ရှေ့, ဒု, တန်း, ကား, ), (, ၊, အ, ရား, ရွာ, ချ...   \n",
       "\n",
       "                                      unique_phrases  \n",
       "0           [ကိုးကား, (တောင်)ရွာ, (ဒု), ချီးယားတန်း]  \n",
       "1          [ကိုးကား, (ဒု), (အနောက်)ရွာ, ချီးယားတန်း]  \n",
       "2  [ချီးယားတန်း, ကိုးကား, (ဒု), (ဒု)ချီးရားတန်း, ...  \n",
       "3           [ကိုးကား, (အရှေ့)ရွာ, (ဒု), ချီးယားတန်း]  \n",
       "4  [(အရှေ့)ရွာ၊, ချီးယားတန်း, ကိုးကား, (ဒု), (ဒု)...  "
      ],
      "text/html": [
       "<div>\n",
       "<style scoped>\n",
       "    .dataframe tbody tr th:only-of-type {\n",
       "        vertical-align: middle;\n",
       "    }\n",
       "\n",
       "    .dataframe tbody tr th {\n",
       "        vertical-align: top;\n",
       "    }\n",
       "\n",
       "    .dataframe thead th {\n",
       "        text-align: right;\n",
       "    }\n",
       "</style>\n",
       "<table border=\"1\" class=\"dataframe\">\n",
       "  <thead>\n",
       "    <tr style=\"text-align: right;\">\n",
       "      <th></th>\n",
       "      <th>title</th>\n",
       "      <th>content</th>\n",
       "      <th>categories</th>\n",
       "      <th>url</th>\n",
       "      <th>last_modified</th>\n",
       "      <th>category_path</th>\n",
       "      <th>category_path_count</th>\n",
       "      <th>unique_words</th>\n",
       "      <th>unique_phrases</th>\n",
       "    </tr>\n",
       "  </thead>\n",
       "  <tbody>\n",
       "    <tr>\n",
       "      <th>0</th>\n",
       "      <td>(ဒု) ချီးယားတန်း (တောင်)ရွာ</td>\n",
       "      <td>(ဒု) ချီးယားတန်း (တောင်)ရွာ\\n\\n\\nကိုးကား</td>\n",
       "      <td>['ကဏ္ဍ:ရခိုင်ပြည်နယ်ရှိ ရွာများ']</td>\n",
       "      <td>https://my.wikipedia.org/wiki/(%E1%80%92%E1%80...</td>\n",
       "      <td>2024-12-01 00:44:13+00:00</td>\n",
       "      <td>[[ကဏ္ဍ:မြန်မာနိုင်ငံ၏ ပညာရေး, ကဏ္ဍ:မြန်မာနိုင်...</td>\n",
       "      <td>1</td>\n",
       "      <td>[ဒု, တန်း, ကား, ), တောင်, (, ကိုး, ရွာ, ချီး, ...</td>\n",
       "      <td>[ကိုးကား, (တောင်)ရွာ, (ဒု), ချီးယားတန်း]</td>\n",
       "    </tr>\n",
       "    <tr>\n",
       "      <th>1</th>\n",
       "      <td>(ဒု) ချီးယားတန်း (အနောက်)ရွာ</td>\n",
       "      <td>(ဒု) ချီးယားတန်း (အနောက်)ရွာ\\n\\n\\nကိုးကား</td>\n",
       "      <td>['ကဏ္ဍ:ရခိုင်ပြည်နယ်ရှိ ရွာများ']</td>\n",
       "      <td>https://my.wikipedia.org/wiki/(%E1%80%92%E1%80...</td>\n",
       "      <td>2024-12-01 00:44:13+00:00</td>\n",
       "      <td>[[ကဏ္ဍ:မြန်မာနိုင်ငံ၏ ပညာရေး, ကဏ္ဍ:မြန်မာနိုင်...</td>\n",
       "      <td>1</td>\n",
       "      <td>[ဒု, တန်း, ကား, ), နောက်, (, ကိုး, အ, ရွာ, ချီ...</td>\n",
       "      <td>[ကိုးကား, (ဒု), (အနောက်)ရွာ, ချီးယားတန်း]</td>\n",
       "    </tr>\n",
       "    <tr>\n",
       "      <th>2</th>\n",
       "      <td>(ဒု) ချီးယားတန်း (အနောက်)ရွာ၊ (ဒု)ချီးရားတန်း</td>\n",
       "      <td>(ဒု) ချီးယားတန်း (အနောက်)ရွာ၊ (ဒု)ချီးရားတန်း\\...</td>\n",
       "      <td>['ကဏ္ဍ:ရခိုင်ပြည်နယ်ရှိ ရွာများ']</td>\n",
       "      <td>https://my.wikipedia.org/wiki/(%E1%80%92%E1%80...</td>\n",
       "      <td>2024-12-01 01:15:55+00:00</td>\n",
       "      <td>[[ကဏ္ဍ:မြန်မာနိုင်ငံ၏ ပညာရေး, ကဏ္ဍ:မြန်မာနိုင်...</td>\n",
       "      <td>1</td>\n",
       "      <td>[ဒု, တန်း, ကား, ), နောက်, (, ၊, အ, ရား, ရွာ, ခ...</td>\n",
       "      <td>[ချီးယားတန်း, ကိုးကား, (ဒု), (ဒု)ချီးရားတန်း, ...</td>\n",
       "    </tr>\n",
       "    <tr>\n",
       "      <th>3</th>\n",
       "      <td>(ဒု) ချီးယားတန်း (အရှေ့)ရွာ</td>\n",
       "      <td>(ဒု) ချီးယားတန်း (အရှေ့)ရွာ\\n\\n\\nကိုးကား</td>\n",
       "      <td>['ကဏ္ဍ:ရခိုင်ပြည်နယ်ရှိ ရွာများ']</td>\n",
       "      <td>https://my.wikipedia.org/wiki/(%E1%80%92%E1%80...</td>\n",
       "      <td>2024-12-01 00:44:13+00:00</td>\n",
       "      <td>[[ကဏ္ဍ:မြန်မာနိုင်ငံ၏ ပညာရေး, ကဏ္ဍ:မြန်မာနိုင်...</td>\n",
       "      <td>1</td>\n",
       "      <td>[ရှေ့, ဒု, တန်း, ကား, ), (, ကိုး, အ, ရွာ, ချီး...</td>\n",
       "      <td>[ကိုးကား, (အရှေ့)ရွာ, (ဒု), ချီးယားတန်း]</td>\n",
       "    </tr>\n",
       "    <tr>\n",
       "      <th>4</th>\n",
       "      <td>(ဒု) ချီးယားတန်း (အရှေ့)ရွာ၊ (ဒု)ချီးရားတန်း</td>\n",
       "      <td>(ဒု) ချီးယားတန်း (အရှေ့)ရွာ၊ (ဒု)ချီးရားတန်း\\n...</td>\n",
       "      <td>['ကဏ္ဍ:ရခိုင်ပြည်နယ်ရှိ ရွာများ']</td>\n",
       "      <td>https://my.wikipedia.org/wiki/(%E1%80%92%E1%80...</td>\n",
       "      <td>2024-12-01 01:15:55+00:00</td>\n",
       "      <td>[[ကဏ္ဍ:မြန်မာနိုင်ငံ၏ ပညာရေး, ကဏ္ဍ:မြန်မာနိုင်...</td>\n",
       "      <td>1</td>\n",
       "      <td>[ရှေ့, ဒု, တန်း, ကား, ), (, ၊, အ, ရား, ရွာ, ချ...</td>\n",
       "      <td>[(အရှေ့)ရွာ၊, ချီးယားတန်း, ကိုးကား, (ဒု), (ဒု)...</td>\n",
       "    </tr>\n",
       "  </tbody>\n",
       "</table>\n",
       "</div>"
      ]
     },
     "execution_count": 14,
     "metadata": {},
     "output_type": "execute_result"
    }
   ],
   "execution_count": 14
  },
  {
   "metadata": {},
   "cell_type": "markdown",
   "source": "# Export and Upload to Huggingface",
   "id": "d9424784b0908343"
  },
  {
   "metadata": {
    "ExecuteTime": {
     "end_time": "2025-03-25T14:20:11.201997Z",
     "start_time": "2025-03-25T14:20:02.636763Z"
    }
   },
   "cell_type": "code",
   "source": "dataset = Dataset.from_pandas(result)",
   "id": "a2aecd384e99d54d",
   "outputs": [],
   "execution_count": 15
  },
  {
   "metadata": {
    "ExecuteTime": {
     "end_time": "2025-03-25T14:20:11.542676Z",
     "start_time": "2025-03-25T14:20:11.532055Z"
    }
   },
   "cell_type": "code",
   "source": "dataset",
   "id": "892375cf08a093",
   "outputs": [
    {
     "data": {
      "text/plain": [
       "Dataset({\n",
       "    features: ['title', 'content', 'categories', 'url', 'last_modified', 'category_path', 'category_path_count', 'unique_words', 'unique_phrases'],\n",
       "    num_rows: 116340\n",
       "})"
      ]
     },
     "execution_count": 16,
     "metadata": {},
     "output_type": "execute_result"
    }
   ],
   "execution_count": 16
  },
  {
   "metadata": {
    "ExecuteTime": {
     "end_time": "2025-03-25T14:20:40.759316Z",
     "start_time": "2025-03-25T14:20:12.195330Z"
    }
   },
   "cell_type": "code",
   "source": "dataset.push_to_hub(\"chuuhtetnaing/myanmar-wikipedia-dataset\")",
   "id": "c0b9bc79971ff32b",
   "outputs": [
    {
     "data": {
      "text/plain": [
       "Uploading the dataset shards:   0%|          | 0/2 [00:00<?, ?it/s]"
      ],
      "application/vnd.jupyter.widget-view+json": {
       "version_major": 2,
       "version_minor": 0,
       "model_id": "66a367d0d1e94f90ba482b0fcb712fb9"
      }
     },
     "metadata": {},
     "output_type": "display_data"
    },
    {
     "data": {
      "text/plain": [
       "Creating parquet from Arrow format:   0%|          | 0/59 [00:00<?, ?ba/s]"
      ],
      "application/vnd.jupyter.widget-view+json": {
       "version_major": 2,
       "version_minor": 0,
       "model_id": "7387547bdabf454da843ceb8917a3161"
      }
     },
     "metadata": {},
     "output_type": "display_data"
    },
    {
     "data": {
      "text/plain": [
       "Creating parquet from Arrow format:   0%|          | 0/59 [00:00<?, ?ba/s]"
      ],
      "application/vnd.jupyter.widget-view+json": {
       "version_major": 2,
       "version_minor": 0,
       "model_id": "4f7a249f65fd4121a8a029799073ed5b"
      }
     },
     "metadata": {},
     "output_type": "display_data"
    },
    {
     "data": {
      "text/plain": [
       "CommitInfo(commit_url='https://huggingface.co/datasets/chuuhtetnaing/myanmar-wikipedia-dataset/commit/08702676fa80a7ee4382fa53db5407ab262d50b9', commit_message='Upload dataset', commit_description='', oid='08702676fa80a7ee4382fa53db5407ab262d50b9', pr_url=None, repo_url=RepoUrl('https://huggingface.co/datasets/chuuhtetnaing/myanmar-wikipedia-dataset', endpoint='https://huggingface.co', repo_type='dataset', repo_id='chuuhtetnaing/myanmar-wikipedia-dataset'), pr_revision=None, pr_num=None)"
      ]
     },
     "execution_count": 17,
     "metadata": {},
     "output_type": "execute_result"
    }
   ],
   "execution_count": 17
  },
  {
   "metadata": {
    "ExecuteTime": {
     "end_time": "2025-03-25T14:20:43.020282Z",
     "start_time": "2025-03-25T14:20:43.019092Z"
    }
   },
   "cell_type": "code",
   "source": "",
   "id": "86ca78e8ac7356d1",
   "outputs": [],
   "execution_count": null
  },
  {
   "metadata": {},
   "cell_type": "markdown",
   "source": "# Load the Uploaded Huggingface Dataset",
   "id": "9dd55d6545925fa"
  },
  {
   "metadata": {
    "ExecuteTime": {
     "end_time": "2025-03-25T14:21:01.171971Z",
     "start_time": "2025-03-25T14:20:43.026640Z"
    }
   },
   "cell_type": "code",
   "source": [
    "from datasets import load_dataset\n",
    "\n",
    "# Login using e.g. `huggingface-cli login` to access this dataset\n",
    "ds = load_dataset(\"chuuhtetnaing/myanmar-wikipedia-dataset\")"
   ],
   "id": "a821b9a9767bf29",
   "outputs": [
    {
     "data": {
      "text/plain": [
       "README.md:   0%|          | 0.00/4.10k [00:00<?, ?B/s]"
      ],
      "application/vnd.jupyter.widget-view+json": {
       "version_major": 2,
       "version_minor": 0,
       "model_id": "e1b865b43cb24e61b5270e8e4a24e4c2"
      }
     },
     "metadata": {},
     "output_type": "display_data"
    },
    {
     "data": {
      "text/plain": [
       "train-00000-of-00002.parquet:   0%|          | 0.00/92.2M [00:00<?, ?B/s]"
      ],
      "application/vnd.jupyter.widget-view+json": {
       "version_major": 2,
       "version_minor": 0,
       "model_id": "f5032716305c4759bb4284ce84400dc9"
      }
     },
     "metadata": {},
     "output_type": "display_data"
    },
    {
     "data": {
      "text/plain": [
       "train-00001-of-00002.parquet:   0%|          | 0.00/122M [00:00<?, ?B/s]"
      ],
      "application/vnd.jupyter.widget-view+json": {
       "version_major": 2,
       "version_minor": 0,
       "model_id": "1dd0bd995c0b4e1ea36ac0231677a987"
      }
     },
     "metadata": {},
     "output_type": "display_data"
    },
    {
     "data": {
      "text/plain": [
       "Generating train split:   0%|          | 0/116340 [00:00<?, ? examples/s]"
      ],
      "application/vnd.jupyter.widget-view+json": {
       "version_major": 2,
       "version_minor": 0,
       "model_id": "4cc9b955ea3545b8879812f8de65f0e6"
      }
     },
     "metadata": {},
     "output_type": "display_data"
    }
   ],
   "execution_count": 18
  },
  {
   "metadata": {
    "ExecuteTime": {
     "end_time": "2025-03-25T14:21:01.189722Z",
     "start_time": "2025-03-25T14:21:01.187327Z"
    }
   },
   "cell_type": "code",
   "source": "ds['train']",
   "id": "2307e6adfc8f0f49",
   "outputs": [
    {
     "data": {
      "text/plain": [
       "Dataset({\n",
       "    features: ['title', 'content', 'categories', 'url', 'last_modified', 'category_path', 'category_path_count', 'unique_words', 'unique_phrases'],\n",
       "    num_rows: 116340\n",
       "})"
      ]
     },
     "execution_count": 19,
     "metadata": {},
     "output_type": "execute_result"
    }
   ],
   "execution_count": 19
  },
  {
   "metadata": {
    "ExecuteTime": {
     "end_time": "2025-03-25T14:21:01.263524Z",
     "start_time": "2025-03-25T14:21:01.258281Z"
    }
   },
   "cell_type": "code",
   "source": "ds['train'][0]['category_path']",
   "id": "9dabccfec7ad7a69",
   "outputs": [
    {
     "data": {
      "text/plain": [
       "[['ကဏ္ဍ:မြန်မာနိုင်ငံ၏ ပညာရေး',\n",
       "  'ကဏ္ဍ:မြန်မာနိုင်ငံရှိ တက္ကသိုလ်နှင့်ကောလိပ်များ',\n",
       "  'ကဏ္ဍ:ရခိုင်ပြည်နယ်အတွင်းရှိ တက္ကသိုလ်များ',\n",
       "  'ကဏ္ဍ:ရခိုင်ပြည်နယ်',\n",
       "  'ကဏ္ဍ:ရခိုင်ပြည်နယ်ရှိ ရွာများ']]"
      ]
     },
     "execution_count": 20,
     "metadata": {},
     "output_type": "execute_result"
    }
   ],
   "execution_count": 20
  },
  {
   "metadata": {
    "ExecuteTime": {
     "end_time": "2025-03-25T14:21:01.306372Z",
     "start_time": "2025-03-25T14:21:01.303875Z"
    }
   },
   "cell_type": "code",
   "source": "ds['train'][0]['unique_words']",
   "id": "17630a00c53a0165",
   "outputs": [
    {
     "data": {
      "text/plain": [
       "['ဒု', 'တန်း', 'ကား', ')', 'တောင်', '(', 'ကိုး', 'ရွာ', 'ချီး', 'ယား']"
      ]
     },
     "execution_count": 21,
     "metadata": {},
     "output_type": "execute_result"
    }
   ],
   "execution_count": 21
  },
  {
   "metadata": {
    "ExecuteTime": {
     "end_time": "2025-03-25T14:21:03.529102Z",
     "start_time": "2025-03-25T14:21:03.526831Z"
    }
   },
   "cell_type": "code",
   "source": "ds['train'][0]['unique_phrases']",
   "id": "808e716f4074e86d",
   "outputs": [
    {
     "data": {
      "text/plain": [
       "['ကိုးကား', '(တောင်)ရွာ', '(ဒု)', 'ချီးယားတန်း']"
      ]
     },
     "execution_count": 22,
     "metadata": {},
     "output_type": "execute_result"
    }
   ],
   "execution_count": 22
  },
  {
   "metadata": {
    "ExecuteTime": {
     "end_time": "2025-03-25T14:21:03.548041Z",
     "start_time": "2025-03-25T14:21:03.546715Z"
    }
   },
   "cell_type": "code",
   "source": "",
   "id": "74b7b3a8e0850fac",
   "outputs": [],
   "execution_count": null
  }
 ],
 "metadata": {
  "kernelspec": {
   "display_name": "Python 3",
   "language": "python",
   "name": "python3"
  },
  "language_info": {
   "codemirror_mode": {
    "name": "ipython",
    "version": 2
   },
   "file_extension": ".py",
   "mimetype": "text/x-python",
   "name": "python",
   "nbconvert_exporter": "python",
   "pygments_lexer": "ipython2",
   "version": "2.7.6"
  }
 },
 "nbformat": 4,
 "nbformat_minor": 5
}
