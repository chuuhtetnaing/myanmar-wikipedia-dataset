{
 "cells": [
  {
   "cell_type": "code",
   "id": "initial_id",
   "metadata": {
    "collapsed": true,
    "ExecuteTime": {
     "end_time": "2025-03-25T12:18:02.896473Z",
     "start_time": "2025-03-25T12:18:02.682378Z"
    }
   },
   "source": [
    "import pandas as pd\n",
    "import ast"
   ],
   "outputs": [],
   "execution_count": 1
  },
  {
   "metadata": {},
   "cell_type": "markdown",
   "source": "# Load the raw dataset",
   "id": "814ae67e2182c081"
  },
  {
   "metadata": {
    "ExecuteTime": {
     "end_time": "2025-03-25T12:18:12.929681Z",
     "start_time": "2025-03-25T12:18:03.799131Z"
    }
   },
   "cell_type": "code",
   "source": "df = pd.read_csv(\"../data/myanmar_wikipedia_dataset.csv\")",
   "id": "f97eab52d2276a27",
   "outputs": [],
   "execution_count": 2
  },
  {
   "metadata": {
    "ExecuteTime": {
     "end_time": "2025-03-25T12:18:12.959447Z",
     "start_time": "2025-03-25T12:18:12.934899Z"
    }
   },
   "cell_type": "code",
   "source": "df[df['title'] == \"ဒဿနိကဗေဒ\"]",
   "id": "bb4f7e9c86dc95ad",
   "outputs": [
    {
     "data": {
      "text/plain": [
       "           title                                            content  \\\n",
       "16      ဒဿနိကဗေဒ  ဒဿနိကဗေဒ(အင်္ဂလိပ်: Philosophy၊ ရှေးဟောင်းဂရိ:...   \n",
       "17      ဒဿနိကဗေဒ  ဒဿနိကဗေဒ(အင်္ဂလိပ်: Philosophy၊ ရှေးဟောင်းဂရိ:...   \n",
       "23184   ဒဿနိကဗေဒ  ဒဿနိကဗေဒ(အင်္ဂလိပ်: Philosophy၊ ရှေးဟောင်းဂရိ:...   \n",
       "23203   ဒဿနိကဗေဒ  ဒဿနိကဗေဒ(အင်္ဂလိပ်: Philosophy၊ ရှေးဟောင်းဂရိ:...   \n",
       "241408  ဒဿနိကဗေဒ  ဒဿနိကဗေဒ(အင်္ဂလိပ်: Philosophy၊ ရှေးဟောင်းဂရိ:...   \n",
       "266434  ဒဿနိကဗေဒ  ဒဿနိကဗေဒ(အင်္ဂလိပ်: Philosophy၊ ရှေးဟောင်းဂရိ:...   \n",
       "\n",
       "                                               categories  \\\n",
       "16      ['ကဏ္ဍ:ဒဿနိကဗေဒ', 'ကဏ္ဍ:ပင်မ အကြောင်းအရာ ဆောင်...   \n",
       "17      ['ကဏ္ဍ:ဒဿနိကဗေဒ', 'ကဏ္ဍ:ပင်မ အကြောင်းအရာ ဆောင်...   \n",
       "23184   ['ကဏ္ဍ:ဒဿနိကဗေဒ', 'ကဏ္ဍ:ပင်မ အကြောင်းအရာ ဆောင်...   \n",
       "23203   ['ကဏ္ဍ:ဒဿနိကဗေဒ', 'ကဏ္ဍ:ပင်မ အကြောင်းအရာ ဆောင်...   \n",
       "241408  ['ကဏ္ဍ:ဒဿနိကဗေဒ', 'ကဏ္ဍ:ပင်မ အကြောင်းအရာ ဆောင်...   \n",
       "266434  ['ကဏ္ဍ:ဒဿနိကဗေဒ', 'ကဏ္ဍ:ပင်မ အကြောင်းအရာ ဆောင်...   \n",
       "\n",
       "                                                      url  \\\n",
       "16      https://my.wikipedia.org/wiki/%E1%80%92%E1%80%...   \n",
       "17      https://my.wikipedia.org/wiki/%E1%80%92%E1%80%...   \n",
       "23184   https://my.wikipedia.org/wiki/%E1%80%92%E1%80%...   \n",
       "23203   https://my.wikipedia.org/wiki/%E1%80%92%E1%80%...   \n",
       "241408  https://my.wikipedia.org/wiki/%E1%80%92%E1%80%...   \n",
       "266434  https://my.wikipedia.org/wiki/%E1%80%92%E1%80%...   \n",
       "\n",
       "               last_modified  \\\n",
       "16      2025-03-15T06:59:34Z   \n",
       "17      2025-03-15T06:59:34Z   \n",
       "23184   2025-03-15T06:59:34Z   \n",
       "23203   2025-03-15T06:59:34Z   \n",
       "241408  2025-03-15T06:59:34Z   \n",
       "266434  2025-03-15T06:59:34Z   \n",
       "\n",
       "                                          source_category  \n",
       "16                                      ['လူ့အဖွဲ့အစည်း']  \n",
       "17                                      ['လူ့အဖွဲ့အစည်း']  \n",
       "23184   ['အင်ဂျင်နီယာ ပညာရပ်', 'ကဏ္ဍ:ပင်မ အကြောင်းအရာ ...  \n",
       "23203   ['အင်ဂျင်နီယာ ပညာရပ်', 'ကဏ္ဍ:ပင်မ အကြောင်းအရာ ...  \n",
       "241408  ['ပွဲတော်များ', 'ကဏ္ဍ:များပြားမလာစေရန် ရှင်းလင...  \n",
       "266434  ['ပွဲတော်များ', 'ကဏ္ဍ:များပြားမလာစေရန် ရှင်းလင...  "
      ],
      "text/html": [
       "<div>\n",
       "<style scoped>\n",
       "    .dataframe tbody tr th:only-of-type {\n",
       "        vertical-align: middle;\n",
       "    }\n",
       "\n",
       "    .dataframe tbody tr th {\n",
       "        vertical-align: top;\n",
       "    }\n",
       "\n",
       "    .dataframe thead th {\n",
       "        text-align: right;\n",
       "    }\n",
       "</style>\n",
       "<table border=\"1\" class=\"dataframe\">\n",
       "  <thead>\n",
       "    <tr style=\"text-align: right;\">\n",
       "      <th></th>\n",
       "      <th>title</th>\n",
       "      <th>content</th>\n",
       "      <th>categories</th>\n",
       "      <th>url</th>\n",
       "      <th>last_modified</th>\n",
       "      <th>source_category</th>\n",
       "    </tr>\n",
       "  </thead>\n",
       "  <tbody>\n",
       "    <tr>\n",
       "      <th>16</th>\n",
       "      <td>ဒဿနိကဗေဒ</td>\n",
       "      <td>ဒဿနိကဗေဒ(အင်္ဂလိပ်: Philosophy၊ ရှေးဟောင်းဂရိ:...</td>\n",
       "      <td>['ကဏ္ဍ:ဒဿနိကဗေဒ', 'ကဏ္ဍ:ပင်မ အကြောင်းအရာ ဆောင်...</td>\n",
       "      <td>https://my.wikipedia.org/wiki/%E1%80%92%E1%80%...</td>\n",
       "      <td>2025-03-15T06:59:34Z</td>\n",
       "      <td>['လူ့အဖွဲ့အစည်း']</td>\n",
       "    </tr>\n",
       "    <tr>\n",
       "      <th>17</th>\n",
       "      <td>ဒဿနိကဗေဒ</td>\n",
       "      <td>ဒဿနိကဗေဒ(အင်္ဂလိပ်: Philosophy၊ ရှေးဟောင်းဂရိ:...</td>\n",
       "      <td>['ကဏ္ဍ:ဒဿနိကဗေဒ', 'ကဏ္ဍ:ပင်မ အကြောင်းအရာ ဆောင်...</td>\n",
       "      <td>https://my.wikipedia.org/wiki/%E1%80%92%E1%80%...</td>\n",
       "      <td>2025-03-15T06:59:34Z</td>\n",
       "      <td>['လူ့အဖွဲ့အစည်း']</td>\n",
       "    </tr>\n",
       "    <tr>\n",
       "      <th>23184</th>\n",
       "      <td>ဒဿနိကဗေဒ</td>\n",
       "      <td>ဒဿနိကဗေဒ(အင်္ဂလိပ်: Philosophy၊ ရှေးဟောင်းဂရိ:...</td>\n",
       "      <td>['ကဏ္ဍ:ဒဿနိကဗေဒ', 'ကဏ္ဍ:ပင်မ အကြောင်းအရာ ဆောင်...</td>\n",
       "      <td>https://my.wikipedia.org/wiki/%E1%80%92%E1%80%...</td>\n",
       "      <td>2025-03-15T06:59:34Z</td>\n",
       "      <td>['အင်ဂျင်နီယာ ပညာရပ်', 'ကဏ္ဍ:ပင်မ အကြောင်းအရာ ...</td>\n",
       "    </tr>\n",
       "    <tr>\n",
       "      <th>23203</th>\n",
       "      <td>ဒဿနိကဗေဒ</td>\n",
       "      <td>ဒဿနိကဗေဒ(အင်္ဂလိပ်: Philosophy၊ ရှေးဟောင်းဂရိ:...</td>\n",
       "      <td>['ကဏ္ဍ:ဒဿနိကဗေဒ', 'ကဏ္ဍ:ပင်မ အကြောင်းအရာ ဆောင်...</td>\n",
       "      <td>https://my.wikipedia.org/wiki/%E1%80%92%E1%80%...</td>\n",
       "      <td>2025-03-15T06:59:34Z</td>\n",
       "      <td>['အင်ဂျင်နီယာ ပညာရပ်', 'ကဏ္ဍ:ပင်မ အကြောင်းအရာ ...</td>\n",
       "    </tr>\n",
       "    <tr>\n",
       "      <th>241408</th>\n",
       "      <td>ဒဿနိကဗေဒ</td>\n",
       "      <td>ဒဿနိကဗေဒ(အင်္ဂလိပ်: Philosophy၊ ရှေးဟောင်းဂရိ:...</td>\n",
       "      <td>['ကဏ္ဍ:ဒဿနိကဗေဒ', 'ကဏ္ဍ:ပင်မ အကြောင်းအရာ ဆောင်...</td>\n",
       "      <td>https://my.wikipedia.org/wiki/%E1%80%92%E1%80%...</td>\n",
       "      <td>2025-03-15T06:59:34Z</td>\n",
       "      <td>['ပွဲတော်များ', 'ကဏ္ဍ:များပြားမလာစေရန် ရှင်းလင...</td>\n",
       "    </tr>\n",
       "    <tr>\n",
       "      <th>266434</th>\n",
       "      <td>ဒဿနိကဗေဒ</td>\n",
       "      <td>ဒဿနိကဗေဒ(အင်္ဂလိပ်: Philosophy၊ ရှေးဟောင်းဂရိ:...</td>\n",
       "      <td>['ကဏ္ဍ:ဒဿနိကဗေဒ', 'ကဏ္ဍ:ပင်မ အကြောင်းအရာ ဆောင်...</td>\n",
       "      <td>https://my.wikipedia.org/wiki/%E1%80%92%E1%80%...</td>\n",
       "      <td>2025-03-15T06:59:34Z</td>\n",
       "      <td>['ပွဲတော်များ', 'ကဏ္ဍ:များပြားမလာစေရန် ရှင်းလင...</td>\n",
       "    </tr>\n",
       "  </tbody>\n",
       "</table>\n",
       "</div>"
      ]
     },
     "execution_count": 3,
     "metadata": {},
     "output_type": "execute_result"
    }
   ],
   "execution_count": 3
  },
  {
   "metadata": {},
   "cell_type": "markdown",
   "source": "# Drop duplicate rows (in case it was modified during downloading data)",
   "id": "f6d5f387ec421a6c"
  },
  {
   "metadata": {
    "ExecuteTime": {
     "end_time": "2025-03-25T12:18:15.346924Z",
     "start_time": "2025-03-25T12:18:13.016228Z"
    }
   },
   "cell_type": "code",
   "source": [
    "# Ensure last_modified is in datetime format\n",
    "df['last_modified'] = pd.to_datetime(df['last_modified'])\n",
    "\n",
    "# Sort by last_modified in descending order (latest first)\n",
    "df = df.sort_values('last_modified', ascending=False)\n",
    "\n",
    "# Get the latest version of each URL\n",
    "df = df.drop_duplicates(subset=['title', 'content', 'categories', 'url', 'source_category'], keep='first')"
   ],
   "id": "6a1c7544c27d1555",
   "outputs": [],
   "execution_count": 4
  },
  {
   "metadata": {
    "ExecuteTime": {
     "end_time": "2025-03-25T12:18:15.407381Z",
     "start_time": "2025-03-25T12:18:15.361849Z"
    }
   },
   "cell_type": "code",
   "source": "df[df['title'] == \"ဒဿနိကဗေဒ\"]",
   "id": "687598c6441bdbf6",
   "outputs": [
    {
     "data": {
      "text/plain": [
       "           title                                            content  \\\n",
       "16      ဒဿနိကဗေဒ  ဒဿနိကဗေဒ(အင်္ဂလိပ်: Philosophy၊ ရှေးဟောင်းဂရိ:...   \n",
       "266434  ဒဿနိကဗေဒ  ဒဿနိကဗေဒ(အင်္ဂလိပ်: Philosophy၊ ရှေးဟောင်းဂရိ:...   \n",
       "23203   ဒဿနိကဗေဒ  ဒဿနိကဗေဒ(အင်္ဂလိပ်: Philosophy၊ ရှေးဟောင်းဂရိ:...   \n",
       "241408  ဒဿနိကဗေဒ  ဒဿနိကဗေဒ(အင်္ဂလိပ်: Philosophy၊ ရှေးဟောင်းဂရိ:...   \n",
       "23184   ဒဿနိကဗေဒ  ဒဿနိကဗေဒ(အင်္ဂလိပ်: Philosophy၊ ရှေးဟောင်းဂရိ:...   \n",
       "\n",
       "                                               categories  \\\n",
       "16      ['ကဏ္ဍ:ဒဿနိကဗေဒ', 'ကဏ္ဍ:ပင်မ အကြောင်းအရာ ဆောင်...   \n",
       "266434  ['ကဏ္ဍ:ဒဿနိကဗေဒ', 'ကဏ္ဍ:ပင်မ အကြောင်းအရာ ဆောင်...   \n",
       "23203   ['ကဏ္ဍ:ဒဿနိကဗေဒ', 'ကဏ္ဍ:ပင်မ အကြောင်းအရာ ဆောင်...   \n",
       "241408  ['ကဏ္ဍ:ဒဿနိကဗေဒ', 'ကဏ္ဍ:ပင်မ အကြောင်းအရာ ဆောင်...   \n",
       "23184   ['ကဏ္ဍ:ဒဿနိကဗေဒ', 'ကဏ္ဍ:ပင်မ အကြောင်းအရာ ဆောင်...   \n",
       "\n",
       "                                                      url  \\\n",
       "16      https://my.wikipedia.org/wiki/%E1%80%92%E1%80%...   \n",
       "266434  https://my.wikipedia.org/wiki/%E1%80%92%E1%80%...   \n",
       "23203   https://my.wikipedia.org/wiki/%E1%80%92%E1%80%...   \n",
       "241408  https://my.wikipedia.org/wiki/%E1%80%92%E1%80%...   \n",
       "23184   https://my.wikipedia.org/wiki/%E1%80%92%E1%80%...   \n",
       "\n",
       "                   last_modified  \\\n",
       "16     2025-03-15 06:59:34+00:00   \n",
       "266434 2025-03-15 06:59:34+00:00   \n",
       "23203  2025-03-15 06:59:34+00:00   \n",
       "241408 2025-03-15 06:59:34+00:00   \n",
       "23184  2025-03-15 06:59:34+00:00   \n",
       "\n",
       "                                          source_category  \n",
       "16                                      ['လူ့အဖွဲ့အစည်း']  \n",
       "266434  ['ပွဲတော်များ', 'ကဏ္ဍ:များပြားမလာစေရန် ရှင်းလင...  \n",
       "23203   ['အင်ဂျင်နီယာ ပညာရပ်', 'ကဏ္ဍ:ပင်မ အကြောင်းအရာ ...  \n",
       "241408  ['ပွဲတော်များ', 'ကဏ္ဍ:များပြားမလာစေရန် ရှင်းလင...  \n",
       "23184   ['အင်ဂျင်နီယာ ပညာရပ်', 'ကဏ္ဍ:ပင်မ အကြောင်းအရာ ...  "
      ],
      "text/html": [
       "<div>\n",
       "<style scoped>\n",
       "    .dataframe tbody tr th:only-of-type {\n",
       "        vertical-align: middle;\n",
       "    }\n",
       "\n",
       "    .dataframe tbody tr th {\n",
       "        vertical-align: top;\n",
       "    }\n",
       "\n",
       "    .dataframe thead th {\n",
       "        text-align: right;\n",
       "    }\n",
       "</style>\n",
       "<table border=\"1\" class=\"dataframe\">\n",
       "  <thead>\n",
       "    <tr style=\"text-align: right;\">\n",
       "      <th></th>\n",
       "      <th>title</th>\n",
       "      <th>content</th>\n",
       "      <th>categories</th>\n",
       "      <th>url</th>\n",
       "      <th>last_modified</th>\n",
       "      <th>source_category</th>\n",
       "    </tr>\n",
       "  </thead>\n",
       "  <tbody>\n",
       "    <tr>\n",
       "      <th>16</th>\n",
       "      <td>ဒဿနိကဗေဒ</td>\n",
       "      <td>ဒဿနိကဗေဒ(အင်္ဂလိပ်: Philosophy၊ ရှေးဟောင်းဂရိ:...</td>\n",
       "      <td>['ကဏ္ဍ:ဒဿနိကဗေဒ', 'ကဏ္ဍ:ပင်မ အကြောင်းအရာ ဆောင်...</td>\n",
       "      <td>https://my.wikipedia.org/wiki/%E1%80%92%E1%80%...</td>\n",
       "      <td>2025-03-15 06:59:34+00:00</td>\n",
       "      <td>['လူ့အဖွဲ့အစည်း']</td>\n",
       "    </tr>\n",
       "    <tr>\n",
       "      <th>266434</th>\n",
       "      <td>ဒဿနိကဗေဒ</td>\n",
       "      <td>ဒဿနိကဗေဒ(အင်္ဂလိပ်: Philosophy၊ ရှေးဟောင်းဂရိ:...</td>\n",
       "      <td>['ကဏ္ဍ:ဒဿနိကဗေဒ', 'ကဏ္ဍ:ပင်မ အကြောင်းအရာ ဆောင်...</td>\n",
       "      <td>https://my.wikipedia.org/wiki/%E1%80%92%E1%80%...</td>\n",
       "      <td>2025-03-15 06:59:34+00:00</td>\n",
       "      <td>['ပွဲတော်များ', 'ကဏ္ဍ:များပြားမလာစေရန် ရှင်းလင...</td>\n",
       "    </tr>\n",
       "    <tr>\n",
       "      <th>23203</th>\n",
       "      <td>ဒဿနိကဗေဒ</td>\n",
       "      <td>ဒဿနိကဗေဒ(အင်္ဂလိပ်: Philosophy၊ ရှေးဟောင်းဂရိ:...</td>\n",
       "      <td>['ကဏ္ဍ:ဒဿနိကဗေဒ', 'ကဏ္ဍ:ပင်မ အကြောင်းအရာ ဆောင်...</td>\n",
       "      <td>https://my.wikipedia.org/wiki/%E1%80%92%E1%80%...</td>\n",
       "      <td>2025-03-15 06:59:34+00:00</td>\n",
       "      <td>['အင်ဂျင်နီယာ ပညာရပ်', 'ကဏ္ဍ:ပင်မ အကြောင်းအရာ ...</td>\n",
       "    </tr>\n",
       "    <tr>\n",
       "      <th>241408</th>\n",
       "      <td>ဒဿနိကဗေဒ</td>\n",
       "      <td>ဒဿနိကဗေဒ(အင်္ဂလိပ်: Philosophy၊ ရှေးဟောင်းဂရိ:...</td>\n",
       "      <td>['ကဏ္ဍ:ဒဿနိကဗေဒ', 'ကဏ္ဍ:ပင်မ အကြောင်းအရာ ဆောင်...</td>\n",
       "      <td>https://my.wikipedia.org/wiki/%E1%80%92%E1%80%...</td>\n",
       "      <td>2025-03-15 06:59:34+00:00</td>\n",
       "      <td>['ပွဲတော်များ', 'ကဏ္ဍ:များပြားမလာစေရန် ရှင်းလင...</td>\n",
       "    </tr>\n",
       "    <tr>\n",
       "      <th>23184</th>\n",
       "      <td>ဒဿနိကဗေဒ</td>\n",
       "      <td>ဒဿနိကဗေဒ(အင်္ဂလိပ်: Philosophy၊ ရှေးဟောင်းဂရိ:...</td>\n",
       "      <td>['ကဏ္ဍ:ဒဿနိကဗေဒ', 'ကဏ္ဍ:ပင်မ အကြောင်းအရာ ဆောင်...</td>\n",
       "      <td>https://my.wikipedia.org/wiki/%E1%80%92%E1%80%...</td>\n",
       "      <td>2025-03-15 06:59:34+00:00</td>\n",
       "      <td>['အင်ဂျင်နီယာ ပညာရပ်', 'ကဏ္ဍ:ပင်မ အကြောင်းအရာ ...</td>\n",
       "    </tr>\n",
       "  </tbody>\n",
       "</table>\n",
       "</div>"
      ]
     },
     "execution_count": 5,
     "metadata": {},
     "output_type": "execute_result"
    }
   ],
   "execution_count": 5
  },
  {
   "metadata": {},
   "cell_type": "markdown",
   "source": "# Combine pages of different category paths",
   "id": "49248f6b4966e157"
  },
  {
   "metadata": {
    "ExecuteTime": {
     "end_time": "2025-03-25T12:18:21.870640Z",
     "start_time": "2025-03-25T12:18:15.458230Z"
    }
   },
   "cell_type": "code",
   "source": [
    "df['source_category'] = df['source_category'].apply(lambda x: ast.literal_eval(x))\n",
    "\n",
    "# Assuming your dataframe is called 'df'\n",
    "def combine_lists(series):\n",
    "    combined = []\n",
    "    for item in series:\n",
    "        item[0] = \"ကဏ္ဍ:\" + item[0]\n",
    "        combined.append(item)\n",
    "    return combined\n",
    "\n",
    "# Count total number of category paths\n",
    "def count_category_paths(series):\n",
    "    total_paths = 0\n",
    "    for item in series:\n",
    "        if isinstance(item, list):\n",
    "            total_paths += len(item)\n",
    "        else:\n",
    "            total_paths += 1\n",
    "    return total_paths\n",
    "\n",
    "df['source_category'] = df['source_category'].apply(\n",
    "    lambda x: ast.literal_eval(x) if isinstance(x, str) and x.startswith('[') and x.endswith(']') else x\n",
    ")\n",
    "\n",
    "df = df.rename(columns={\"source_category\": \"category_path\"})\n",
    "\n",
    "# Group by the columns and aggregate\n",
    "result = df.groupby(['title', 'content', 'categories', 'url', 'last_modified']).agg({\n",
    "    'category_path': combine_lists,\n",
    "    'title': 'count'  # Use any column to count rows\n",
    "}).rename(columns={'title': 'category_path_count'}).reset_index()\n"
   ],
   "id": "83755ba01d479f4f",
   "outputs": [],
   "execution_count": 6
  },
  {
   "metadata": {
    "ExecuteTime": {
     "end_time": "2025-03-25T12:18:21.902891Z",
     "start_time": "2025-03-25T12:18:21.888467Z"
    }
   },
   "cell_type": "code",
   "source": "result[result['title'] == \"ဒဿနိကဗေဒ\"]",
   "id": "87f20df9bf1a86ce",
   "outputs": [
    {
     "data": {
      "text/plain": [
       "          title                                            content  \\\n",
       "47292  ဒဿနိကဗေဒ  ဒဿနိကဗေဒ(အင်္ဂလိပ်: Philosophy၊ ရှေးဟောင်းဂရိ:...   \n",
       "\n",
       "                                              categories  \\\n",
       "47292  ['ကဏ္ဍ:ဒဿနိကဗေဒ', 'ကဏ္ဍ:ပင်မ အကြောင်းအရာ ဆောင်...   \n",
       "\n",
       "                                                     url  \\\n",
       "47292  https://my.wikipedia.org/wiki/%E1%80%92%E1%80%...   \n",
       "\n",
       "                  last_modified  \\\n",
       "47292 2025-03-15 06:59:34+00:00   \n",
       "\n",
       "                                           category_path  category_path_count  \n",
       "47292  [[ကဏ္ဍ:လူ့အဖွဲ့အစည်း], [ကဏ္ဍ:ပွဲတော်များ, ကဏ္ဍ...                    5  "
      ],
      "text/html": [
       "<div>\n",
       "<style scoped>\n",
       "    .dataframe tbody tr th:only-of-type {\n",
       "        vertical-align: middle;\n",
       "    }\n",
       "\n",
       "    .dataframe tbody tr th {\n",
       "        vertical-align: top;\n",
       "    }\n",
       "\n",
       "    .dataframe thead th {\n",
       "        text-align: right;\n",
       "    }\n",
       "</style>\n",
       "<table border=\"1\" class=\"dataframe\">\n",
       "  <thead>\n",
       "    <tr style=\"text-align: right;\">\n",
       "      <th></th>\n",
       "      <th>title</th>\n",
       "      <th>content</th>\n",
       "      <th>categories</th>\n",
       "      <th>url</th>\n",
       "      <th>last_modified</th>\n",
       "      <th>category_path</th>\n",
       "      <th>category_path_count</th>\n",
       "    </tr>\n",
       "  </thead>\n",
       "  <tbody>\n",
       "    <tr>\n",
       "      <th>47292</th>\n",
       "      <td>ဒဿနိကဗေဒ</td>\n",
       "      <td>ဒဿနိကဗေဒ(အင်္ဂလိပ်: Philosophy၊ ရှေးဟောင်းဂရိ:...</td>\n",
       "      <td>['ကဏ္ဍ:ဒဿနိကဗေဒ', 'ကဏ္ဍ:ပင်မ အကြောင်းအရာ ဆောင်...</td>\n",
       "      <td>https://my.wikipedia.org/wiki/%E1%80%92%E1%80%...</td>\n",
       "      <td>2025-03-15 06:59:34+00:00</td>\n",
       "      <td>[[ကဏ္ဍ:လူ့အဖွဲ့အစည်း], [ကဏ္ဍ:ပွဲတော်များ, ကဏ္ဍ...</td>\n",
       "      <td>5</td>\n",
       "    </tr>\n",
       "  </tbody>\n",
       "</table>\n",
       "</div>"
      ]
     },
     "execution_count": 7,
     "metadata": {},
     "output_type": "execute_result"
    }
   ],
   "execution_count": 7
  },
  {
   "metadata": {
    "ExecuteTime": {
     "end_time": "2025-03-25T12:18:21.935237Z",
     "start_time": "2025-03-25T12:18:21.933939Z"
    }
   },
   "cell_type": "code",
   "source": "",
   "id": "742b9c0c2b47b769",
   "outputs": [],
   "execution_count": null
  },
  {
   "metadata": {
    "ExecuteTime": {
     "end_time": "2025-03-25T12:23:13.274511Z",
     "start_time": "2025-03-25T12:23:13.267571Z"
    }
   },
   "cell_type": "code",
   "source": "result.head()",
   "id": "1982cfb85313e19e",
   "outputs": [
    {
     "data": {
      "text/plain": [
       "                                           title  \\\n",
       "0                    (ဒု) ချီးယားတန်း (တောင်)ရွာ   \n",
       "1                   (ဒု) ချီးယားတန်း (အနောက်)ရွာ   \n",
       "2  (ဒု) ချီးယားတန်း (အနောက်)ရွာ၊ (ဒု)ချီးရားတန်း   \n",
       "3                    (ဒု) ချီးယားတန်း (အရှေ့)ရွာ   \n",
       "4   (ဒု) ချီးယားတန်း (အရှေ့)ရွာ၊ (ဒု)ချီးရားတန်း   \n",
       "\n",
       "                                             content  \\\n",
       "0           (ဒု) ချီးယားတန်း (တောင်)ရွာ\\n\\n\\nကိုးကား   \n",
       "1          (ဒု) ချီးယားတန်း (အနောက်)ရွာ\\n\\n\\nကိုးကား   \n",
       "2  (ဒု) ချီးယားတန်း (အနောက်)ရွာ၊ (ဒု)ချီးရားတန်း\\...   \n",
       "3           (ဒု) ချီးယားတန်း (အရှေ့)ရွာ\\n\\n\\nကိုးကား   \n",
       "4  (ဒု) ချီးယားတန်း (အရှေ့)ရွာ၊ (ဒု)ချီးရားတန်း\\n...   \n",
       "\n",
       "                          categories  \\\n",
       "0  ['ကဏ္ဍ:ရခိုင်ပြည်နယ်ရှိ ရွာများ']   \n",
       "1  ['ကဏ္ဍ:ရခိုင်ပြည်နယ်ရှိ ရွာများ']   \n",
       "2  ['ကဏ္ဍ:ရခိုင်ပြည်နယ်ရှိ ရွာများ']   \n",
       "3  ['ကဏ္ဍ:ရခိုင်ပြည်နယ်ရှိ ရွာများ']   \n",
       "4  ['ကဏ္ဍ:ရခိုင်ပြည်နယ်ရှိ ရွာများ']   \n",
       "\n",
       "                                                 url  \\\n",
       "0  https://my.wikipedia.org/wiki/(%E1%80%92%E1%80...   \n",
       "1  https://my.wikipedia.org/wiki/(%E1%80%92%E1%80...   \n",
       "2  https://my.wikipedia.org/wiki/(%E1%80%92%E1%80...   \n",
       "3  https://my.wikipedia.org/wiki/(%E1%80%92%E1%80...   \n",
       "4  https://my.wikipedia.org/wiki/(%E1%80%92%E1%80...   \n",
       "\n",
       "              last_modified  \\\n",
       "0 2024-12-01 00:44:13+00:00   \n",
       "1 2024-12-01 00:44:13+00:00   \n",
       "2 2024-12-01 01:15:55+00:00   \n",
       "3 2024-12-01 00:44:13+00:00   \n",
       "4 2024-12-01 01:15:55+00:00   \n",
       "\n",
       "                                       category_path  category_path_count  \n",
       "0  [[ကဏ္ဍ:မြန်မာနိုင်ငံ၏ ပညာရေး, ကဏ္ဍ:မြန်မာနိုင်...                    1  \n",
       "1  [[ကဏ္ဍ:မြန်မာနိုင်ငံ၏ ပညာရေး, ကဏ္ဍ:မြန်မာနိုင်...                    1  \n",
       "2  [[ကဏ္ဍ:မြန်မာနိုင်ငံ၏ ပညာရေး, ကဏ္ဍ:မြန်မာနိုင်...                    1  \n",
       "3  [[ကဏ္ဍ:မြန်မာနိုင်ငံ၏ ပညာရေး, ကဏ္ဍ:မြန်မာနိုင်...                    1  \n",
       "4  [[ကဏ္ဍ:မြန်မာနိုင်ငံ၏ ပညာရေး, ကဏ္ဍ:မြန်မာနိုင်...                    1  "
      ],
      "text/html": [
       "<div>\n",
       "<style scoped>\n",
       "    .dataframe tbody tr th:only-of-type {\n",
       "        vertical-align: middle;\n",
       "    }\n",
       "\n",
       "    .dataframe tbody tr th {\n",
       "        vertical-align: top;\n",
       "    }\n",
       "\n",
       "    .dataframe thead th {\n",
       "        text-align: right;\n",
       "    }\n",
       "</style>\n",
       "<table border=\"1\" class=\"dataframe\">\n",
       "  <thead>\n",
       "    <tr style=\"text-align: right;\">\n",
       "      <th></th>\n",
       "      <th>title</th>\n",
       "      <th>content</th>\n",
       "      <th>categories</th>\n",
       "      <th>url</th>\n",
       "      <th>last_modified</th>\n",
       "      <th>category_path</th>\n",
       "      <th>category_path_count</th>\n",
       "    </tr>\n",
       "  </thead>\n",
       "  <tbody>\n",
       "    <tr>\n",
       "      <th>0</th>\n",
       "      <td>(ဒု) ချီးယားတန်း (တောင်)ရွာ</td>\n",
       "      <td>(ဒု) ချီးယားတန်း (တောင်)ရွာ\\n\\n\\nကိုးကား</td>\n",
       "      <td>['ကဏ္ဍ:ရခိုင်ပြည်နယ်ရှိ ရွာများ']</td>\n",
       "      <td>https://my.wikipedia.org/wiki/(%E1%80%92%E1%80...</td>\n",
       "      <td>2024-12-01 00:44:13+00:00</td>\n",
       "      <td>[[ကဏ္ဍ:မြန်မာနိုင်ငံ၏ ပညာရေး, ကဏ္ဍ:မြန်မာနိုင်...</td>\n",
       "      <td>1</td>\n",
       "    </tr>\n",
       "    <tr>\n",
       "      <th>1</th>\n",
       "      <td>(ဒု) ချီးယားတန်း (အနောက်)ရွာ</td>\n",
       "      <td>(ဒု) ချီးယားတန်း (အနောက်)ရွာ\\n\\n\\nကိုးကား</td>\n",
       "      <td>['ကဏ္ဍ:ရခိုင်ပြည်နယ်ရှိ ရွာများ']</td>\n",
       "      <td>https://my.wikipedia.org/wiki/(%E1%80%92%E1%80...</td>\n",
       "      <td>2024-12-01 00:44:13+00:00</td>\n",
       "      <td>[[ကဏ္ဍ:မြန်မာနိုင်ငံ၏ ပညာရေး, ကဏ္ဍ:မြန်မာနိုင်...</td>\n",
       "      <td>1</td>\n",
       "    </tr>\n",
       "    <tr>\n",
       "      <th>2</th>\n",
       "      <td>(ဒု) ချီးယားတန်း (အနောက်)ရွာ၊ (ဒု)ချီးရားတန်း</td>\n",
       "      <td>(ဒု) ချီးယားတန်း (အနောက်)ရွာ၊ (ဒု)ချီးရားတန်း\\...</td>\n",
       "      <td>['ကဏ္ဍ:ရခိုင်ပြည်နယ်ရှိ ရွာများ']</td>\n",
       "      <td>https://my.wikipedia.org/wiki/(%E1%80%92%E1%80...</td>\n",
       "      <td>2024-12-01 01:15:55+00:00</td>\n",
       "      <td>[[ကဏ္ဍ:မြန်မာနိုင်ငံ၏ ပညာရေး, ကဏ္ဍ:မြန်မာနိုင်...</td>\n",
       "      <td>1</td>\n",
       "    </tr>\n",
       "    <tr>\n",
       "      <th>3</th>\n",
       "      <td>(ဒု) ချီးယားတန်း (အရှေ့)ရွာ</td>\n",
       "      <td>(ဒု) ချီးယားတန်း (အရှေ့)ရွာ\\n\\n\\nကိုးကား</td>\n",
       "      <td>['ကဏ္ဍ:ရခိုင်ပြည်နယ်ရှိ ရွာများ']</td>\n",
       "      <td>https://my.wikipedia.org/wiki/(%E1%80%92%E1%80...</td>\n",
       "      <td>2024-12-01 00:44:13+00:00</td>\n",
       "      <td>[[ကဏ္ဍ:မြန်မာနိုင်ငံ၏ ပညာရေး, ကဏ္ဍ:မြန်မာနိုင်...</td>\n",
       "      <td>1</td>\n",
       "    </tr>\n",
       "    <tr>\n",
       "      <th>4</th>\n",
       "      <td>(ဒု) ချီးယားတန်း (အရှေ့)ရွာ၊ (ဒု)ချီးရားတန်း</td>\n",
       "      <td>(ဒု) ချီးယားတန်း (အရှေ့)ရွာ၊ (ဒု)ချီးရားတန်း\\n...</td>\n",
       "      <td>['ကဏ္ဍ:ရခိုင်ပြည်နယ်ရှိ ရွာများ']</td>\n",
       "      <td>https://my.wikipedia.org/wiki/(%E1%80%92%E1%80...</td>\n",
       "      <td>2024-12-01 01:15:55+00:00</td>\n",
       "      <td>[[ကဏ္ဍ:မြန်မာနိုင်ငံ၏ ပညာရေး, ကဏ္ဍ:မြန်မာနိုင်...</td>\n",
       "      <td>1</td>\n",
       "    </tr>\n",
       "  </tbody>\n",
       "</table>\n",
       "</div>"
      ]
     },
     "execution_count": 9,
     "metadata": {},
     "output_type": "execute_result"
    }
   ],
   "execution_count": 9
  },
  {
   "metadata": {},
   "cell_type": "code",
   "outputs": [],
   "execution_count": null,
   "source": "",
   "id": "e13c0e0bd3ff8723"
  },
  {
   "metadata": {},
   "cell_type": "markdown",
   "source": "# Export and Upload to Huggingface",
   "id": "d9424784b0908343"
  },
  {
   "metadata": {
    "ExecuteTime": {
     "end_time": "2025-03-25T12:24:23.141106Z",
     "start_time": "2025-03-25T12:24:22.636810Z"
    }
   },
   "cell_type": "code",
   "source": "from datasets import Dataset",
   "id": "5706f50761559ba2",
   "outputs": [],
   "execution_count": 10
  },
  {
   "metadata": {
    "ExecuteTime": {
     "end_time": "2025-03-25T12:24:41.593322Z",
     "start_time": "2025-03-25T12:24:38.179637Z"
    }
   },
   "cell_type": "code",
   "source": "dataset = Dataset.from_pandas(result)",
   "id": "a2aecd384e99d54d",
   "outputs": [],
   "execution_count": 11
  },
  {
   "metadata": {
    "ExecuteTime": {
     "end_time": "2025-03-25T12:24:41.598659Z",
     "start_time": "2025-03-25T12:24:41.596130Z"
    }
   },
   "cell_type": "code",
   "source": "dataset",
   "id": "892375cf08a093",
   "outputs": [
    {
     "data": {
      "text/plain": [
       "Dataset({\n",
       "    features: ['title', 'content', 'categories', 'url', 'last_modified', 'category_path', 'category_path_count'],\n",
       "    num_rows: 116340\n",
       "})"
      ]
     },
     "execution_count": 12,
     "metadata": {},
     "output_type": "execute_result"
    }
   ],
   "execution_count": 12
  },
  {
   "metadata": {
    "ExecuteTime": {
     "end_time": "2025-03-25T12:52:08.484538Z",
     "start_time": "2025-03-25T12:51:44.954459Z"
    }
   },
   "cell_type": "code",
   "source": "dataset.push_to_hub(\"chuuhtetnaing/myanmar-wikipedia-dataset\")",
   "id": "c0b9bc79971ff32b",
   "outputs": [
    {
     "data": {
      "text/plain": [
       "Uploading the dataset shards:   0%|          | 0/2 [00:00<?, ?it/s]"
      ],
      "application/vnd.jupyter.widget-view+json": {
       "version_major": 2,
       "version_minor": 0,
       "model_id": "4ad4469288bc4753b9b0166f2f93e032"
      }
     },
     "metadata": {},
     "output_type": "display_data"
    },
    {
     "data": {
      "text/plain": [
       "Creating parquet from Arrow format:   0%|          | 0/59 [00:00<?, ?ba/s]"
      ],
      "application/vnd.jupyter.widget-view+json": {
       "version_major": 2,
       "version_minor": 0,
       "model_id": "ef0f142484564808a54ef2edf2946705"
      }
     },
     "metadata": {},
     "output_type": "display_data"
    },
    {
     "data": {
      "text/plain": [
       "Creating parquet from Arrow format:   0%|          | 0/59 [00:00<?, ?ba/s]"
      ],
      "application/vnd.jupyter.widget-view+json": {
       "version_major": 2,
       "version_minor": 0,
       "model_id": "3e737af0902742e49c87a02d88014d1a"
      }
     },
     "metadata": {},
     "output_type": "display_data"
    },
    {
     "data": {
      "text/plain": [
       "CommitInfo(commit_url='https://huggingface.co/datasets/chuuhtetnaing/myanmar-wikipedia-dataset/commit/cf2525d589016a2073987dde03daf25377b039a3', commit_message='Upload dataset', commit_description='', oid='cf2525d589016a2073987dde03daf25377b039a3', pr_url=None, repo_url=RepoUrl('https://huggingface.co/datasets/chuuhtetnaing/myanmar-wikipedia-dataset', endpoint='https://huggingface.co', repo_type='dataset', repo_id='chuuhtetnaing/myanmar-wikipedia-dataset'), pr_revision=None, pr_num=None)"
      ]
     },
     "execution_count": 14,
     "metadata": {},
     "output_type": "execute_result"
    }
   ],
   "execution_count": 14
  },
  {
   "metadata": {},
   "cell_type": "code",
   "outputs": [],
   "execution_count": null,
   "source": "",
   "id": "86ca78e8ac7356d1"
  },
  {
   "metadata": {},
   "cell_type": "markdown",
   "source": "# Load the Uploaded Huggingface Dataset",
   "id": "9dd55d6545925fa"
  },
  {
   "metadata": {
    "ExecuteTime": {
     "end_time": "2025-03-25T13:08:46.430412Z",
     "start_time": "2025-03-25T13:08:29.144533Z"
    }
   },
   "cell_type": "code",
   "source": [
    "from datasets import load_dataset\n",
    "\n",
    "# Login using e.g. `huggingface-cli login` to access this dataset\n",
    "ds = load_dataset(\"chuuhtetnaing/myanmar-wikipedia-dataset\")"
   ],
   "id": "a821b9a9767bf29",
   "outputs": [
    {
     "data": {
      "text/plain": [
       "README.md:   0%|          | 0.00/555 [00:00<?, ?B/s]"
      ],
      "application/vnd.jupyter.widget-view+json": {
       "version_major": 2,
       "version_minor": 0,
       "model_id": "814950e52ed74718b4e34c04b5ec4514"
      }
     },
     "metadata": {},
     "output_type": "display_data"
    },
    {
     "data": {
      "text/plain": [
       "train-00000-of-00002.parquet:   0%|          | 0.00/43.1M [00:00<?, ?B/s]"
      ],
      "application/vnd.jupyter.widget-view+json": {
       "version_major": 2,
       "version_minor": 0,
       "model_id": "a7f871d4173d43be9b8c967b6138c6b1"
      }
     },
     "metadata": {},
     "output_type": "display_data"
    },
    {
     "data": {
      "text/plain": [
       "train-00001-of-00002.parquet:   0%|          | 0.00/57.3M [00:00<?, ?B/s]"
      ],
      "application/vnd.jupyter.widget-view+json": {
       "version_major": 2,
       "version_minor": 0,
       "model_id": "c49b1c56ae4240c3b28299ef7489fa7b"
      }
     },
     "metadata": {},
     "output_type": "display_data"
    },
    {
     "data": {
      "text/plain": [
       "Generating train split:   0%|          | 0/116340 [00:00<?, ? examples/s]"
      ],
      "application/vnd.jupyter.widget-view+json": {
       "version_major": 2,
       "version_minor": 0,
       "model_id": "86c7a3191d1f497688df7cbe58bc3f97"
      }
     },
     "metadata": {},
     "output_type": "display_data"
    }
   ],
   "execution_count": 15
  },
  {
   "metadata": {
    "ExecuteTime": {
     "end_time": "2025-03-25T13:10:03.440569Z",
     "start_time": "2025-03-25T13:10:03.438337Z"
    }
   },
   "cell_type": "code",
   "source": "ds['train']",
   "id": "2307e6adfc8f0f49",
   "outputs": [
    {
     "data": {
      "text/plain": [
       "Dataset({\n",
       "    features: ['title', 'content', 'categories', 'url', 'last_modified', 'category_path', 'category_path_count'],\n",
       "    num_rows: 116340\n",
       "})"
      ]
     },
     "execution_count": 26,
     "metadata": {},
     "output_type": "execute_result"
    }
   ],
   "execution_count": 26
  },
  {
   "metadata": {
    "ExecuteTime": {
     "end_time": "2025-03-25T13:09:51.482236Z",
     "start_time": "2025-03-25T13:09:51.476765Z"
    }
   },
   "cell_type": "code",
   "source": "ds['train'][0]['category_path']",
   "id": "9dabccfec7ad7a69",
   "outputs": [
    {
     "data": {
      "text/plain": [
       "[['ကဏ္ဍ:မြန်မာနိုင်ငံ၏ ပညာရေး',\n",
       "  'ကဏ္ဍ:မြန်မာနိုင်ငံရှိ တက္ကသိုလ်နှင့်ကောလိပ်များ',\n",
       "  'ကဏ္ဍ:ရခိုင်ပြည်နယ်အတွင်းရှိ တက္ကသိုလ်များ',\n",
       "  'ကဏ္ဍ:ရခိုင်ပြည်နယ်',\n",
       "  'ကဏ္ဍ:ရခိုင်ပြည်နယ်ရှိ ရွာများ']]"
      ]
     },
     "execution_count": 24,
     "metadata": {},
     "output_type": "execute_result"
    }
   ],
   "execution_count": 24
  },
  {
   "metadata": {},
   "cell_type": "code",
   "outputs": [],
   "execution_count": null,
   "source": "",
   "id": "17630a00c53a0165"
  }
 ],
 "metadata": {
  "kernelspec": {
   "display_name": "Python 3",
   "language": "python",
   "name": "python3"
  },
  "language_info": {
   "codemirror_mode": {
    "name": "ipython",
    "version": 2
   },
   "file_extension": ".py",
   "mimetype": "text/x-python",
   "name": "python",
   "nbconvert_exporter": "python",
   "pygments_lexer": "ipython2",
   "version": "2.7.6"
  }
 },
 "nbformat": 4,
 "nbformat_minor": 5
}
